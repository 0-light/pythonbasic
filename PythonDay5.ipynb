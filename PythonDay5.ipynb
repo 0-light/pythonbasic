{
  "nbformat": 4,
  "nbformat_minor": 0,
  "metadata": {
    "colab": {
      "provenance": [],
      "authorship_tag": "ABX9TyMCsmHNHGueXFWUrkYLp6Y4",
      "include_colab_link": true
    },
    "kernelspec": {
      "name": "python3",
      "display_name": "Python 3"
    },
    "language_info": {
      "name": "python"
    }
  },
  "cells": [
    {
      "cell_type": "markdown",
      "metadata": {
        "id": "view-in-github",
        "colab_type": "text"
      },
      "source": [
        "<a href=\"https://colab.research.google.com/github/0-light/pythonbasic/blob/main/PythonDay5.ipynb\" target=\"_parent\"><img src=\"https://colab.research.google.com/assets/colab-badge.svg\" alt=\"Open In Colab\"/></a>"
      ]
    },
    {
      "cell_type": "code",
      "execution_count": null,
      "metadata": {
        "id": "U4TFtdFqck6w"
      },
      "outputs": [],
      "source": [
        "#Function\n",
        "\n",
        "# 자바에서는 오히려 함수가 존재하지 않는다. 대신에 매서드를 사용한다.\n",
        "# 사실 거의 같지만 매서드는 클래스 내부에서 정의 된다.\n",
        "# 자바는 클래스 밖이라는 개념이 존재하지 않기 때문에 함수가 없다.\n",
        "\n",
        "# 파이썬은 클래스 밖의 개념과 클래스 안의 개념이 다 존재하기 때문에\n",
        "# 함수도 매서드도 모두 사용된다.\n",
        "\n",
        "# 함수란?\n",
        "\n",
        "# 믹서기에 딸기를 넣으면 딸기 주스가 바나나를 넣으면 바나나 주스가 만들어진다.\n",
        "# 함수도 이와 같이 입력 값에 따라 다른 실행 결과를 내보낸다.\n",
        "# 특히 파이썬도 자바와 같이 (매서드) 함수를 중요하게 많이 사용된다.\n",
        "\n",
        "# 왜?\n",
        "# 프로그래밍을 하다보면 같은 내용을 반복해서 실행 시켜야 할 부분이 상당히 많아진다.\n",
        "# 그때마다 새롭게 만들어서 사용하는 것이 아니라 한번 범용적으로 만들어서 \n",
        "# 필요할 때마다 호출하여 사용하면 프로그램의 흐름도 잘 파악할수 있고 오류가 어디서\n",
        "# 발생하는지도 쉽게 찾을 수 있다."
      ]
    },
    {
      "cell_type": "code",
      "source": [
        "#def 함수명():\n",
        "#  수행구문1\n",
        "#  수행구문2\n",
        "\n",
        "#함수 정의\n",
        "def add(a,b):\n",
        "  return a+b\n",
        "\n",
        "#함수 호출\n",
        "print(add(1,2))\n",
        "\n",
        "# 매개변수와 인수 (객체와 인스턴스 / 매서드와 함수)\n",
        "# 매개변수와 인수는 혼용하여 사용되는 조금 헷갈릴수 있는 용어이다\n",
        "# 매개변수는 함수에 입력으로 전달 된 값을 받는 변수를 의미하고\n",
        "# 인수는 함수를 호출할때 전달하는 입력 값을 의미한다.\n",
        "\n",
        "def add(a,b): # a,b 매개변수\n",
        "  return a+b\n",
        "\n",
        "print(add(1,2)) #1,2 인수 (진짜 값)\n"
      ],
      "metadata": {
        "colab": {
          "base_uri": "https://localhost:8080/"
        },
        "id": "sgRPND72eHIp",
        "outputId": "81afd81e-2792-41b7-e537-a0ef10182064"
      },
      "execution_count": null,
      "outputs": [
        {
          "output_type": "stream",
          "name": "stdout",
          "text": [
            "3\n"
          ]
        }
      ]
    },
    {
      "cell_type": "code",
      "source": [
        "# 함수의 4가지 형태\n",
        "\n",
        "# 1. input과 output이 모두 존재하는 함수 (****)\n",
        "# 2. input이 없고 output만 존재하는 함수\n",
        "# 3. input은 있고 output은 존재하지 않는 함수\n",
        "# 4. input도 없고 output도 없는 함수"
      ],
      "metadata": {
        "id": "jBKbB1SFhc4T"
      },
      "execution_count": null,
      "outputs": []
    },
    {
      "cell_type": "code",
      "source": [
        "# 1. input과 output이 모두 존재하는 함수 (****)\n",
        "def add(a,b): # a,b 매개변수\n",
        "  return a+b\n",
        "\n",
        "print(add(1,2)) #1,2 인수 (진짜 값)"
      ],
      "metadata": {
        "id": "iE2aozJ2iGdk"
      },
      "execution_count": null,
      "outputs": []
    },
    {
      "cell_type": "code",
      "source": [
        "# 2. input이 없고 output만 존재하는 함수\n",
        "\n",
        "def say():\n",
        "  return 'Hello World'\n",
        "\n",
        "print(say())  "
      ],
      "metadata": {
        "colab": {
          "base_uri": "https://localhost:8080/"
        },
        "id": "FgInRdkGiGiy",
        "outputId": "a5857681-1858-44d6-9153-effe8ae9a967"
      },
      "execution_count": null,
      "outputs": [
        {
          "output_type": "stream",
          "name": "stdout",
          "text": [
            "Hello World\n"
          ]
        }
      ]
    },
    {
      "cell_type": "code",
      "source": [
        "# 3. input은 있고 output은 존재하지 않는 함수\n",
        "\n",
        "def yesinput(name):\n",
        "  print(name,'님 어서오세요')\n",
        "\n",
        "yesinput('홍길동')\n",
        "\n"
      ],
      "metadata": {
        "colab": {
          "base_uri": "https://localhost:8080/"
        },
        "id": "QTsTi7dajGdt",
        "outputId": "ef76a5c0-335d-48f9-f00e-3c66d06a829c"
      },
      "execution_count": null,
      "outputs": [
        {
          "output_type": "stream",
          "name": "stdout",
          "text": [
            "홍길동 님 어서오세요\n"
          ]
        }
      ]
    },
    {
      "cell_type": "code",
      "source": [
        "# 4. input도 없고 output도 없는 함수\n",
        "\n",
        "def noinnoout():\n",
        "  print('환영합니다.')\n",
        "\n",
        "noinnoout()"
      ],
      "metadata": {
        "colab": {
          "base_uri": "https://localhost:8080/"
        },
        "id": "5dQ-Ujhoj2HX",
        "outputId": "a39935a3-fe88-4680-aee6-a3263b4edd47"
      },
      "execution_count": null,
      "outputs": [
        {
          "output_type": "stream",
          "name": "stdout",
          "text": [
            "환영합니다.\n"
          ]
        }
      ]
    },
    {
      "cell_type": "code",
      "source": [
        "# 매개 변수의 수를 알 수 없을때, 즉 몇개의 매개변수가 들어올지 모를때....\n",
        "\n",
        "def add2(a,b):\n",
        "  return a+b\n",
        "\n",
        "def add3(a,b,c):\n",
        "  return a+b+c  \n",
        "\n",
        "def add(*args):\n",
        "  result=0\n",
        "  for i in args:\n",
        "    result = result + i\n",
        "  print(result)\n",
        "\n",
        "add(1,2)\n",
        "add(1,2,3)\n"
      ],
      "metadata": {
        "colab": {
          "base_uri": "https://localhost:8080/"
        },
        "id": "au4_T4i2kCz0",
        "outputId": "17fcb762-f685-4d4d-973b-2d223a2c85c6"
      },
      "execution_count": null,
      "outputs": [
        {
          "output_type": "stream",
          "name": "stdout",
          "text": [
            "3\n",
            "6\n"
          ]
        }
      ]
    },
    {
      "cell_type": "code",
      "source": [
        "# 함수의 리턴값은 언제나 하나이다.\n",
        "def addmul(a,b):\n",
        "  return a+b, \n",
        "  return a*b\n",
        "\n",
        "print(addmul(2,3))\n",
        "\n",
        "def addmul2(a,b):\n",
        "  return a+b, a*b\n",
        "\n",
        "addmul2(2,3)\n",
        "\n",
        "# 결과 값으로 튜플 (5,6) 출력되었다. 2개가 아닌 튜플 1개로 출력된 것이다."
      ],
      "metadata": {
        "colab": {
          "base_uri": "https://localhost:8080/"
        },
        "id": "sDSo5DFkoQuK",
        "outputId": "f2e70052-40e7-4ecc-c8b3-959e4a2c4171"
      },
      "execution_count": null,
      "outputs": [
        {
          "output_type": "stream",
          "name": "stdout",
          "text": [
            "(5,)\n"
          ]
        },
        {
          "output_type": "execute_result",
          "data": {
            "text/plain": [
              "(5, 6)"
            ]
          },
          "metadata": {},
          "execution_count": 10
        }
      ]
    },
    {
      "cell_type": "code",
      "source": [
        "# 매개 변수에 미리 초기값 설정하기\n",
        "\n",
        "def aboutme(name, age, gender=True):\n",
        "  print(f'나의 이름은 {name}입니다.')\n",
        "  print(f'나이는 {age}살 입니다.')\n",
        "  if gender:\n",
        "    print('나의 성별은 남성입니다.')\n",
        "  else:\n",
        "    print('나의 성별은 여성입니다.')\n",
        "\n",
        "aboutme('송중기', 35, True)\n",
        "aboutme('송중기', 35)\n",
        "aboutme('송중기', 35, False)"
      ],
      "metadata": {
        "id": "jR72s8Ljpuyk"
      },
      "execution_count": null,
      "outputs": []
    },
    {
      "cell_type": "code",
      "source": [
        "# 함수 안에서의 변수 효력 범위 (지역변수/전역변수)\n",
        "\n",
        "a = 1\n",
        "\n",
        "def vartest(a):\n",
        "  a += 1 # 2\n",
        "  print(a)\n",
        "\n",
        "vartest(a)\n",
        "print(a)\n"
      ],
      "metadata": {
        "id": "5WS3NPPaEOy6"
      },
      "execution_count": null,
      "outputs": []
    },
    {
      "cell_type": "code",
      "source": [
        "# 클래스 정의\n",
        "class Cal:\n",
        "  pass\n",
        "\n",
        "# 클래스로 인스턴스 생성\n",
        "a = Cal()"
      ],
      "metadata": {
        "id": "vPlHGSNtEQ-l"
      },
      "execution_count": null,
      "outputs": []
    },
    {
      "cell_type": "code",
      "source": [
        "result = 0\n",
        "result2 = 0\n",
        "\n",
        "def add(num):\n",
        "  global result\n",
        "  result += num\n",
        "  return result\n",
        "\n",
        "def add2(num):\n",
        "  global result2\n",
        "  result2 += num\n",
        "  return result2\n",
        "\n",
        "print(add(3))\n",
        "print(add(7))\n",
        "print()\n",
        "print(add2(4))\n",
        "print(add2(8))\n",
        "print()\n",
        "print(result)\n",
        "\n",
        "# 똑같은 계산을 하는 계산기들이 각각 다른 결과 값을 유지하고있다.\n",
        "# 계산기 1은 계산기 2에 전혀 영향을 주지 않는다.\n",
        "\n",
        "# 하지만 문제는 계산기가 더 필요해진다면 또 같은 계산기들을 만들어야한다.\n",
        "\n",
        "# 따라서 클래스를 사용하여 계산기를 만들어보자..."
      ],
      "metadata": {
        "id": "23YnNtIwES6U"
      },
      "execution_count": null,
      "outputs": []
    },
    {
      "cell_type": "code",
      "source": [
        "class Cal:\n",
        "  def __init__(self): # 파이썬에서의 생성자\n",
        "    self.result = 0\n",
        "\n",
        "  def add(self, num):\n",
        "    self.result += num\n",
        "    return self.result\n",
        "\n",
        "cal1 = Cal()\n",
        "cal2 = Cal()\n",
        "cal3 = Cal()\n",
        "\n",
        "print(cal1.add(2))\n",
        "print(cal1.add(1))\n",
        "print(cal1.add(3))\n",
        "print()\n",
        "print(cal2.add(5))\n",
        "print(cal2.add(4))\n",
        "print()\n",
        "print(cal3.add(1))\n",
        "print(cal3.add(2))"
      ],
      "metadata": {
        "id": "JAIt6pPIEW78"
      },
      "execution_count": null,
      "outputs": []
    },
    {
      "cell_type": "code",
      "source": [
        "class Cal:\n",
        "  def __init__(self): # 파이썬에서의 생성자\n",
        "    self.result = 0\n",
        "\n",
        "  def add(self, num):\n",
        "    self.result += num\n",
        "    return self.result\n",
        "\n",
        "  def sub(self, num):\n",
        "    self.result -= num\n",
        "    return self.result\n",
        "\n",
        "cal1 = Cal()\n",
        "cal2 = Cal()\n",
        "cal3 = Cal()\n",
        "\n",
        "print(cal1.add(2))\n",
        "print(cal1.add(1))\n",
        "print(cal1.add(3))\n",
        "print()\n",
        "print(cal2.add(5))\n",
        "print(cal2.add(4))\n",
        "print()\n",
        "print(cal3.sub(1))\n",
        "print(cal3.add(2))\n",
        "\n",
        "# 이미 만들어진 클래스에 새로운 기능이 추가되면 객체들도 그 기능을 모두 사용할 수 있다."
      ],
      "metadata": {
        "id": "nc3kh3fEEZ1j"
      },
      "execution_count": null,
      "outputs": []
    },
    {
      "cell_type": "code",
      "source": [
        "class BigCal:\n",
        "  def setdata(self, first, second): # self는 호출한 객체의 이름이 온다.\n",
        "    self.first = first\n",
        "    self.second = second\n",
        "  def add(self):\n",
        "    result = self.first + self.second\n",
        "    return result\n",
        "\n",
        "cal1 = BigCal()\n",
        "cal2 = BigCal()\n",
        "\n",
        "cal1.setdata(2,3) # 2가 first 3이 second self는 cal1이 된다.\n",
        "cal2.setdata(4,1) # 4가 fistt 1이 second self는 cal2가 된다.\n",
        "\n",
        "print(cal1.first) # 2\n",
        "print(cal2.first) # 4\n",
        "\n",
        "print(cal1.add())\n",
        "print(cal2.add())"
      ],
      "metadata": {
        "id": "o-f8yx93EbZ_"
      },
      "execution_count": null,
      "outputs": []
    },
    {
      "cell_type": "code",
      "source": [
        "class BigCal:\n",
        "  def setdata(self, first, second): # self는 호출한 객체의 이름이 온다.\n",
        "    self.first = first\n",
        "    self.second = second\n",
        "  def add(self):\n",
        "    result = self.first + self.second\n",
        "    return result\n",
        "  def sub(self):\n",
        "    result = self.first - self.second\n",
        "    return result\n",
        "  def mul(self):\n",
        "    result = self.first * self.second\n",
        "    return result\n",
        "  def div(self):\n",
        "    result = self.first / self.second\n",
        "    return result\n",
        "\n",
        "cal1 = BigCal()\n",
        "cal2 = BigCal()\n",
        "\n",
        "cal1.setdata(2,3) # 2가 first 3이 second self는 cal1이 된다.\n",
        "cal2.setdata(4,1) # 4가 fistt 1이 second self는 cal2가 된다.\n",
        "\n",
        "print(cal1.first) # 2\n",
        "print(cal2.first) # 4\n",
        "\n",
        "print(cal1.add())\n",
        "print(cal2.add())\n",
        "\n",
        "print(cal1.sub())\n",
        "print(cal2.sub())\n",
        "\n",
        "print(cal1.mul())\n",
        "print(cal2.mul())\n",
        "\n",
        "print(cal1.div())\n",
        "print(cal2.div())"
      ],
      "metadata": {
        "id": "EJB6f8FyEdIi"
      },
      "execution_count": null,
      "outputs": []
    },
    {
      "cell_type": "code",
      "source": [
        "class BigCal:\n",
        "  def __init__(self, first, second): # 생성자\n",
        "    self.first = first\n",
        "    self.second = second\n",
        "# def setdata(self, first, second): # self는 호출한 객체의 이름이 온다.\n",
        "#   self.first = first\n",
        "#   self.second = second\n",
        "  def add(self):\n",
        "    result = self.first + self.second\n",
        "    return result\n",
        "  def sub(self):\n",
        "    result = self.first - self.second\n",
        "    return result\n",
        "  def mul(self):\n",
        "    result = self.first * self.second\n",
        "    return result\n",
        "  def div(self):\n",
        "    result = self.first / self.second\n",
        "    return result\n",
        "\n",
        "# cal1 = BigCal()\n",
        "# cal2 = BigCal()\n",
        "\n",
        "# cal1.setdata(2,3)\n",
        "# cal2.setdata(4,1)\n",
        "\n",
        "cal1 = BigCal(2,3)\n",
        "cal2 = BigCal(4,1)\n",
        "\n",
        "print(cal1.first)\n",
        "print(cal2.first)\n",
        "\n",
        "print(cal1.add())\n",
        "print(cal2.add())\n",
        "\n",
        "print(cal1.sub())\n",
        "print(cal2.sub())\n",
        "\n",
        "print(cal1.mul())\n",
        "print(cal2.mul())\n",
        "\n",
        "print(cal1.div())\n",
        "print(cal2.div())"
      ],
      "metadata": {
        "id": "ZFA470o1EhS3"
      },
      "execution_count": null,
      "outputs": []
    },
    {
      "cell_type": "code",
      "source": [
        "# 상속 Inheritance\n",
        "# 자바는 다중상속을 지원하지 않는 반면 파이썬은 다중상속을 지원한다."
      ],
      "metadata": {
        "id": "NMGGuyNjEi1K"
      },
      "execution_count": null,
      "outputs": []
    }
  ]
}