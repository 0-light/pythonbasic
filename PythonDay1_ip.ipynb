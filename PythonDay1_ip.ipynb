{
  "nbformat": 4,
  "nbformat_minor": 0,
  "metadata": {
    "colab": {
      "provenance": [],
      "authorship_tag": "ABX9TyMS02bRUrknHsf4gxLNZjY1",
      "include_colab_link": true
    },
    "kernelspec": {
      "name": "python3",
      "display_name": "Python 3"
    },
    "language_info": {
      "name": "python"
    }
  },
  "cells": [
    {
      "cell_type": "markdown",
      "metadata": {
        "id": "view-in-github",
        "colab_type": "text"
      },
      "source": [
        "<a href=\"https://colab.research.google.com/github/0-light/pythonbasic/blob/main/PythonDay1_ip.ipynb\" target=\"_parent\"><img src=\"https://colab.research.google.com/assets/colab-badge.svg\" alt=\"Open In Colab\"/></a>"
      ]
    },
    {
      "cell_type": "code",
      "execution_count": 1,
      "metadata": {
        "colab": {
          "base_uri": "https://localhost:8080/"
        },
        "id": "GTJk-FODkijQ",
        "outputId": "5dc2ed0c-b438-4e36-8ba1-6ca8cfad126f"
      },
      "outputs": [
        {
          "output_type": "stream",
          "name": "stdout",
          "text": [
            "Hello World 한글 테스트\n"
          ]
        }
      ],
      "source": [
        "print(\"Hello World 한글 테스트\")"
      ]
    },
    {
      "cell_type": "code",
      "source": [
        "#정수형 자료형\n",
        "a = 100\n",
        "b = -123\n",
        "c = 0\n",
        "print(a,b,c)"
      ],
      "metadata": {
        "colab": {
          "base_uri": "https://localhost:8080/"
        },
        "id": "EhmDgFqApvX7",
        "outputId": "412247b6-5d98-49cd-dfd1-3c81fa9e912d"
      },
      "execution_count": 3,
      "outputs": [
        {
          "output_type": "stream",
          "name": "stdout",
          "text": [
            "100 -123 0\n"
          ]
        }
      ]
    },
    {
      "cell_type": "code",
      "source": [
        "#실수형 자료형\n",
        "a = 3.14\n",
        "b = -5.16\n",
        "print(a,b)"
      ],
      "metadata": {
        "colab": {
          "base_uri": "https://localhost:8080/"
        },
        "id": "B1huQW05qXLX",
        "outputId": "384ae5b0-813c-4e78-ece2-0d1f81122db7"
      },
      "execution_count": 4,
      "outputs": [
        {
          "output_type": "stream",
          "name": "stdout",
          "text": [
            "3.14 -5.16\n"
          ]
        }
      ]
    },
    {
      "cell_type": "code",
      "source": [
        "a=3\n",
        "b=4\n",
        "#코랩에서는 print를 생략해도 알아서 넣어준다(마지막에만 넣어준다)\n",
        "a+b\n",
        "a-b"
      ],
      "metadata": {
        "colab": {
          "base_uri": "https://localhost:8080/"
        },
        "id": "kwwgk-xRq9Bc",
        "outputId": "79324114-ac87-42a7-f61d-a06912cc79f1"
      },
      "execution_count": 6,
      "outputs": [
        {
          "output_type": "execute_result",
          "data": {
            "text/plain": [
              "-1"
            ]
          },
          "metadata": {},
          "execution_count": 6
        }
      ]
    },
    {
      "cell_type": "code",
      "source": [
        "a+b\n",
        "a-b\n",
        "print(a+b)\n",
        "print(a-b)"
      ],
      "metadata": {
        "colab": {
          "base_uri": "https://localhost:8080/"
        },
        "id": "kYpynRm5rQ3W",
        "outputId": "8ce16aff-e929-429a-f082-0190cc527dd1"
      },
      "execution_count": 7,
      "outputs": [
        {
          "output_type": "stream",
          "name": "stdout",
          "text": [
            "7\n",
            "-1\n"
          ]
        }
      ]
    },
    {
      "cell_type": "code",
      "source": [
        "5 / 2 # 일반적인 나누기"
      ],
      "metadata": {
        "colab": {
          "base_uri": "https://localhost:8080/"
        },
        "id": "6-HCaqCDsAX2",
        "outputId": "61cddff8-be8c-4f0a-c0db-a6719ba6ffe8"
      },
      "execution_count": 8,
      "outputs": [
        {
          "output_type": "execute_result",
          "data": {
            "text/plain": [
              "2.5"
            ]
          },
          "metadata": {},
          "execution_count": 8
        }
      ]
    },
    {
      "cell_type": "code",
      "source": [
        "5 % 2 \n",
        "# 몫은 버리고 나머지만 취한다.\n",
        "# 어떤수를 2로나눈 나머지가 0이 나오면 짝수 1이나오면 홀수"
      ],
      "metadata": {
        "colab": {
          "base_uri": "https://localhost:8080/"
        },
        "id": "RrfewgC6sFu5",
        "outputId": "28033948-1337-4041-b72c-59bcf093aba2"
      },
      "execution_count": 9,
      "outputs": [
        {
          "output_type": "execute_result",
          "data": {
            "text/plain": [
              "1"
            ]
          },
          "metadata": {},
          "execution_count": 9
        }
      ]
    },
    {
      "cell_type": "code",
      "source": [
        "# 문자열 자료형 - 파이썬에서는 동일하게 사용\n",
        "\n",
        "# 1 큰 따옴표\n",
        "\"Hello World\"\n",
        "\n",
        "# 2 작은 따옴표\n",
        "'Hello World'\n",
        "\n",
        "#3 3중 따옴표 Doc String\n",
        "\"\"\"Hello Wolrd\"\"\"\n",
        "'''Hello World'''"
      ],
      "metadata": {
        "colab": {
          "base_uri": "https://localhost:8080/",
          "height": 35
        },
        "id": "dqhbn4dOv5mW",
        "outputId": "59236f85-5621-4393-93f9-12eab04b6474"
      },
      "execution_count": 11,
      "outputs": [
        {
          "output_type": "execute_result",
          "data": {
            "text/plain": [
              "'Hello World'"
            ],
            "application/vnd.google.colaboratory.intrinsic+json": {
              "type": "string"
            }
          },
          "metadata": {},
          "execution_count": 11
        }
      ]
    },
    {
      "cell_type": "code",
      "source": [
        "# 파이썬에서서는 큰 따옴표와 작은 따옴표에 전혀 차이가 없지만\n",
        "# 아래의 용도로 분리하여 사용된다.\n",
        "\n",
        "\"Python's\"  # 작은 따옴표 하나를 출력하기 위한 용도 \n",
        "'say \"Hello\"' # 작은 따옴표 안에서 큰 따옴표를 출력하기 위한 용도"
      ],
      "metadata": {
        "colab": {
          "base_uri": "https://localhost:8080/",
          "height": 35
        },
        "id": "XnUy38D8wdt5",
        "outputId": "64cec024-b28e-4bf9-ba2a-d205e5482281"
      },
      "execution_count": 12,
      "outputs": [
        {
          "output_type": "execute_result",
          "data": {
            "text/plain": [
              "'say \"Hello\"'"
            ],
            "application/vnd.google.colaboratory.intrinsic+json": {
              "type": "string"
            }
          },
          "metadata": {},
          "execution_count": 12
        }
      ]
    },
    {
      "cell_type": "code",
      "source": [
        "# \\n - 줄바꿈\n",
        "a = \"I Love you\\nYou Love me?\"\n",
        "print(a);\n",
        "\n",
        "b = \"\"\"I Love you\n",
        "You Love me?\"\"\"\n",
        "print(b);\n",
        "\n",
        "#에러 발생\n",
        "#c=\"I Love you\n",
        "#you Love me\""
      ],
      "metadata": {
        "colab": {
          "base_uri": "https://localhost:8080/"
        },
        "id": "1V6o6H4hxKNM",
        "outputId": "5ac1131b-ce8c-474c-f040-8abf4f4d3297"
      },
      "execution_count": 16,
      "outputs": [
        {
          "output_type": "stream",
          "name": "stdout",
          "text": [
            "I Love you\n",
            "You Love me?\n",
            "I Love you\n",
            "You Love me?\n"
          ]
        }
      ]
    },
    {
      "cell_type": "code",
      "source": [
        "# 문자열 연산\n",
        "\n",
        "# 파이썬에서는 문자열도 연산이 가능하다.\n",
        "# 특히 다른 언어에서는 발견하기 어려운 파이썬만의 독특한 특징이다.\n",
        "\n",
        "a = 'i '\n",
        "b = 'love '\n",
        "c = 'you'\n",
        "print(a+b+c)\n",
        "\n",
        "d = 'love '\n",
        "print(d*3)\n",
        "\n",
        "e = \"=\"\n",
        "print(e*30)"
      ],
      "metadata": {
        "colab": {
          "base_uri": "https://localhost:8080/"
        },
        "id": "k9mFAX2gyZrJ",
        "outputId": "650da946-a5fe-418f-83d3-2c6e4ea3a599"
      },
      "execution_count": 20,
      "outputs": [
        {
          "output_type": "stream",
          "name": "stdout",
          "text": [
            "i love you\n",
            "love love love \n",
            "==============================\n"
          ]
        }
      ]
    },
    {
      "cell_type": "code",
      "source": [
        "# 문자열 자료형에서 많이 사용되는 함수\n",
        "\n",
        "# lne()\n",
        "print(len(\"i love you\")) # 빈칸도 글자 취급"
      ],
      "metadata": {
        "colab": {
          "base_uri": "https://localhost:8080/"
        },
        "id": "RwEQPYh60JjZ",
        "outputId": "de9d49c8-51ae-482b-bb94-2c24cee38efd"
      },
      "execution_count": 21,
      "outputs": [
        {
          "output_type": "execute_result",
          "data": {
            "text/plain": [
              "10"
            ]
          },
          "metadata": {},
          "execution_count": 21
        }
      ]
    },
    {
      "cell_type": "code",
      "source": [
        "# 인덱싱과 슬라이싱 (indexing & slicing)\n",
        "# 인덱싱과 슬리이싱은 리스트와 튜플에서도 완전히 동일하게 사용된다.\n",
        "\n",
        "# 인덱싱 - 한 개의 글자 추출\n",
        "a = \"I love you\"\n",
        "print(a[0])\n",
        "print(a[9])\n",
        "print(a[-1]) # 마지막 글자 추출은 -1을 사용한다.\n",
        "print(a[-3])\n",
        "\n",
        "# 슬라이싱 - 여러개의 글자 추출\n",
        "a = \"i love you\"\n",
        "print(a[2:6]) # 끝자리를 나타내는 수는 미만을 의미한다.\n",
        "print(a[7:])  # 끝자리를 생략하면 끝까지 출력\n",
        "print(a[:2])  # 시작 자리를 생력하면 처음(0) 부터 시작한다.\n",
        "print(a[:])   # 모든 자리 생략하면 처음부터 끝까지 출력\n",
        "print(a[7:-1]) # 슬라이싱에서도 - 표기를 사용한다.역시 미만으로 사용된다."
      ],
      "metadata": {
        "colab": {
          "base_uri": "https://localhost:8080/"
        },
        "id": "soDqX_Ug0tOu",
        "outputId": "ae90da5e-52e3-48ca-81b1-2a52ad7aa8d0"
      },
      "execution_count": 28,
      "outputs": [
        {
          "output_type": "stream",
          "name": "stdout",
          "text": [
            "I\n",
            "u\n",
            "u\n",
            "y\n",
            "love\n",
            "you\n",
            "i \n",
            "i love you\n"
          ]
        }
      ]
    },
    {
      "cell_type": "code",
      "source": [
        "# 파이썬에서 출력 방법 4가지\n",
        "\n",
        "# 1 문자열 포맷팅 (중요도 하)\n",
        "print(\"I %s you\" % \"love\")\n",
        "print(\"I ate %d apples\" % 5)\n",
        "print(\"I ate %s apples\" % 5)\n",
        "\n",
        "print(\"I %s you, I ate %s apples\" % (\"love\", 5))\n",
        "\n",
        "z = \"=\"\n",
        "print(z*40)\n",
        "\n",
        "# 2 format() 포맷 함수 (중요도 하)\n",
        "print(\"I {} you\".format(\"love\"))\n",
        "print(\"I ate {} apples\".format(5))\n",
        "print(\"I ate {} apples\".format(5))\n",
        "\n",
        "print(\"I {} you, I ate {} apples\".format(\"love\", 5))"
      ],
      "metadata": {
        "colab": {
          "base_uri": "https://localhost:8080/"
        },
        "id": "-3t3Hg1K72gD",
        "outputId": "e899b700-6bb3-4451-e55b-e0e8d0e70b3d"
      },
      "execution_count": 35,
      "outputs": [
        {
          "output_type": "stream",
          "name": "stdout",
          "text": [
            "I love you\n",
            "I ate 5 apples\n",
            "I ate 5 apples\n",
            "I love you, I ate 5 apples\n",
            "========================================\n",
            "I love you\n",
            "I ate 5 apples\n",
            "I ate 5 apples\n",
            "I love you, I ate 5 apples\n"
          ]
        }
      ]
    },
    {
      "cell_type": "code",
      "source": [
        "# 3 f스트링 (중요도 상)\n",
        "\n",
        "a = \"love\"\n",
        "b = 5\n",
        "\n",
        "print(f\"I {a} you\")\n",
        "print(f\"I ate {b} apples\")\n",
        "print(f\"I ate {b} apples\")\n",
        "\n",
        "print(f\"I {a} you, I ate {b} apples\")\n",
        "\n",
        "# 4 연산자 사용\n",
        "\n",
        "a = \"love\"\n",
        "b = 5\n",
        "\n",
        "print(\"I \" + a + \" you\")\n",
        "print(\"I ate\" , b , \"apples\")\n",
        "print(\"I ate\" , b , \"apples\")\n",
        "\n",
        "print(\"I \" + a +  \" you, I ate\" , b , \"apples\")\n",
        "\n",
        "print(\"I\" , a , \"you\")\n",
        "print(\"I ate\" , b , \"apples\")\n",
        "print(\"I ate\" , b , \"apples\")\n",
        "\n",
        "print(\"I\" , a ,  \"you, I ate\" , b , \"apples\")\n"
      ],
      "metadata": {
        "colab": {
          "base_uri": "https://localhost:8080/"
        },
        "id": "FxAsfhJh98Yf",
        "outputId": "d2d50546-db95-4d78-c0a7-b6ebe8d54912"
      },
      "execution_count": 42,
      "outputs": [
        {
          "output_type": "stream",
          "name": "stdout",
          "text": [
            "I love you\n",
            "I ate 5 apples\n",
            "I ate 5 apples\n",
            "I love you, I ate 5 apples\n",
            "I love you\n",
            "I ate 5 apples\n",
            "I ate 5 apples\n",
            "I love you, I ate 5 apples\n",
            "I love you\n",
            "I ate 5 apples\n",
            "I ate 5 apples\n",
            "I love you, I ate 5 apples\n"
          ]
        }
      ]
    },
    {
      "cell_type": "code",
      "source": [
        "# 문자열 관련 자주 사용하는 함수 정리\n",
        "\n",
        "# len 문자열의 갯수 확인\n",
        "\n",
        "print(len(\"I love you\")) # 빈칸도 글자로 센다."
      ],
      "metadata": {
        "colab": {
          "base_uri": "https://localhost:8080/"
        },
        "id": "e5_NKnw7Aqwm",
        "outputId": "dc9a1ce4-f76c-4ab1-f75f-6a71fb056451"
      },
      "execution_count": 43,
      "outputs": [
        {
          "output_type": "stream",
          "name": "stdout",
          "text": [
            "10\n"
          ]
        }
      ]
    }
  ]
}