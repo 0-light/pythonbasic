{
  "nbformat": 4,
  "nbformat_minor": 0,
  "metadata": {
    "colab": {
      "provenance": [],
      "authorship_tag": "ABX9TyPy6VgpvDriuOj53IiXebcV",
      "include_colab_link": true
    },
    "kernelspec": {
      "name": "python3",
      "display_name": "Python 3"
    },
    "language_info": {
      "name": "python"
    }
  },
  "cells": [
    {
      "cell_type": "markdown",
      "metadata": {
        "id": "view-in-github",
        "colab_type": "text"
      },
      "source": [
        "<a href=\"https://colab.research.google.com/github/0-light/pythonbasic/blob/main/PythonDay2.ipynb\" target=\"_parent\"><img src=\"https://colab.research.google.com/assets/colab-badge.svg\" alt=\"Open In Colab\"/></a>"
      ]
    },
    {
      "cell_type": "code",
      "execution_count": null,
      "metadata": {
        "colab": {
          "base_uri": "https://localhost:8080/"
        },
        "id": "UEojoukGg3GD",
        "outputId": "ec2271a0-5ab3-438f-b138-6da2409cf9df"
      },
      "outputs": [
        {
          "output_type": "execute_result",
          "data": {
            "text/plain": [
              "2"
            ]
          },
          "metadata": {},
          "execution_count": 1
        }
      ],
      "source": [
        "# 문자열 함수들(메서서드들)\n",
        "\n",
        "# 문자 개수 세기 count\n",
        "\n",
        "a = \"school\"\n",
        "a.count('o')"
      ]
    },
    {
      "cell_type": "code",
      "source": [
        "# 위치 알아내기 (find)\n",
        "# 만약 없는 문자를 찾는 경우 -1 출력\n",
        "a = \"school\"\n",
        "print(a.find('h'))\n",
        "print(a.find('z'))"
      ],
      "metadata": {
        "colab": {
          "base_uri": "https://localhost:8080/"
        },
        "id": "mm2A-ervhYUp",
        "outputId": "d85d83a3-56ff-496f-bf4d-b1d1f2b0e1e7"
      },
      "execution_count": null,
      "outputs": [
        {
          "output_type": "stream",
          "name": "stdout",
          "text": [
            "2\n",
            "-1\n"
          ]
        }
      ]
    },
    {
      "cell_type": "code",
      "source": [
        "# 위치 알아내기 (index)\n",
        "# 만약 없는 문자를 찾는 경우 오류 출력\n",
        "a = \"school\"\n",
        "print(a.index('o'))\n",
        "#print(a.index('z'))"
      ],
      "metadata": {
        "colab": {
          "base_uri": "https://localhost:8080/"
        },
        "id": "7LALvWQzhiCR",
        "outputId": "d9338e1c-3910-495d-b61a-0cdddc928905"
      },
      "execution_count": null,
      "outputs": [
        {
          "output_type": "stream",
          "name": "stdout",
          "text": [
            "3\n"
          ]
        }
      ]
    },
    {
      "cell_type": "code",
      "source": [
        "# 문자 삽입 join\n",
        "print(\"\".join(\"abcd\"))\n",
        "print(\",\".join(\"abcd\"))"
      ],
      "metadata": {
        "colab": {
          "base_uri": "https://localhost:8080/"
        },
        "id": "v05xl20uiW8C",
        "outputId": "2b7b434e-322e-43ab-8cb9-da6014286274"
      },
      "execution_count": null,
      "outputs": [
        {
          "output_type": "stream",
          "name": "stdout",
          "text": [
            "abcd\n",
            "a,b,c,d\n"
          ]
        }
      ]
    },
    {
      "cell_type": "code",
      "source": [
        "# 대문자로 바꾸기 upper\n",
        "a = 'Hello'\n",
        "\n",
        "a.upper()"
      ],
      "metadata": {
        "colab": {
          "base_uri": "https://localhost:8080/",
          "height": 35
        },
        "id": "s8hWU-ahinpk",
        "outputId": "a50fca2c-e603-4381-ff41-f7701f7073f0"
      },
      "execution_count": null,
      "outputs": [
        {
          "output_type": "execute_result",
          "data": {
            "text/plain": [
              "'HELLO'"
            ],
            "application/vnd.google.colaboratory.intrinsic+json": {
              "type": "string"
            }
          },
          "metadata": {},
          "execution_count": 12
        }
      ]
    },
    {
      "cell_type": "code",
      "source": [
        "# 소문자로 바꾸기 lower\n",
        "a='HELLO'\n",
        "\n",
        "a.lower()"
      ],
      "metadata": {
        "colab": {
          "base_uri": "https://localhost:8080/",
          "height": 35
        },
        "id": "gjNRLUWXi1aL",
        "outputId": "18fb22bf-fd62-4f44-dc4b-4ae36052f7a3"
      },
      "execution_count": null,
      "outputs": [
        {
          "output_type": "execute_result",
          "data": {
            "text/plain": [
              "'hello'"
            ],
            "application/vnd.google.colaboratory.intrinsic+json": {
              "type": "string"
            }
          },
          "metadata": {},
          "execution_count": 14
        }
      ]
    },
    {
      "cell_type": "code",
      "source": [
        "# 공백 제거 왼쪽 lstrip\n",
        "a = ' Hello'\n",
        "a.lstrip()"
      ],
      "metadata": {
        "colab": {
          "base_uri": "https://localhost:8080/",
          "height": 35
        },
        "id": "6uqFY647i-Yq",
        "outputId": "9dff0c5a-14ad-490c-caaa-6a186929faf7"
      },
      "execution_count": null,
      "outputs": [
        {
          "output_type": "execute_result",
          "data": {
            "text/plain": [
              "'Hello'"
            ],
            "application/vnd.google.colaboratory.intrinsic+json": {
              "type": "string"
            }
          },
          "metadata": {},
          "execution_count": 15
        }
      ]
    },
    {
      "cell_type": "code",
      "source": [
        "# 공백 제거 오른쪽 rstrip\n",
        "a = 'Hello '\n",
        "a.rstrip()"
      ],
      "metadata": {
        "colab": {
          "base_uri": "https://localhost:8080/",
          "height": 35
        },
        "id": "yUGrIgSLjPnX",
        "outputId": "ce486b1a-b8d3-40e1-aa18-1b693cbb480c"
      },
      "execution_count": null,
      "outputs": [
        {
          "output_type": "execute_result",
          "data": {
            "text/plain": [
              "'Hello'"
            ],
            "application/vnd.google.colaboratory.intrinsic+json": {
              "type": "string"
            }
          },
          "metadata": {},
          "execution_count": 17
        }
      ]
    },
    {
      "cell_type": "code",
      "source": [
        "# 공백 제거 오른쪽/왼쪽 strip\n",
        "a = ' Hello '\n",
        "a.strip()"
      ],
      "metadata": {
        "colab": {
          "base_uri": "https://localhost:8080/",
          "height": 35
        },
        "id": "1BJAnUYujc2d",
        "outputId": "268f274e-ff6d-43a9-df76-fa1c3b81daac"
      },
      "execution_count": null,
      "outputs": [
        {
          "output_type": "execute_result",
          "data": {
            "text/plain": [
              "'Hello'"
            ],
            "application/vnd.google.colaboratory.intrinsic+json": {
              "type": "string"
            }
          },
          "metadata": {},
          "execution_count": 18
        }
      ]
    },
    {
      "cell_type": "code",
      "source": [
        "# 글자 바꾸기 replace\n",
        "\n",
        "a = 'I love you'\n",
        "a.replace(\"you\", \"myself\")"
      ],
      "metadata": {
        "colab": {
          "base_uri": "https://localhost:8080/",
          "height": 35
        },
        "id": "CozGkLp7jkXM",
        "outputId": "968f63f1-585f-4e88-b505-2986c98a6b0f"
      },
      "execution_count": null,
      "outputs": [
        {
          "output_type": "execute_result",
          "data": {
            "text/plain": [
              "'I love myself'"
            ],
            "application/vnd.google.colaboratory.intrinsic+json": {
              "type": "string"
            }
          },
          "metadata": {},
          "execution_count": 20
        }
      ]
    },
    {
      "cell_type": "code",
      "source": [
        "# 문자열 나누기 split\n",
        "\n",
        "addr = \"서울시 강남구 서초동 1111\"\n",
        "print(addr.split())  #생략하면  빈칸을 기준으로 분리한다.\n",
        "\n",
        "addr = \"서울시,강남구,서초동,1111\"\n",
        "print(addr.split(','))  #생략하면  빈칸을 기준으로 분리한다.\n",
        "print(type(addr.split(',')))"
      ],
      "metadata": {
        "colab": {
          "base_uri": "https://localhost:8080/"
        },
        "id": "vVQXGi5Dj71u",
        "outputId": "2b668d54-2e55-4acc-e0a2-b3df691d7619"
      },
      "execution_count": null,
      "outputs": [
        {
          "output_type": "stream",
          "name": "stdout",
          "text": [
            "['서울시', '강남구', '서초동', '1111']\n",
            "['서울시', '강남구', '서초동', '1111']\n",
            "<class 'list'>\n"
          ]
        }
      ]
    },
    {
      "cell_type": "code",
      "source": [
        "# LIST\n",
        "# [] 대괄호로 만든다\n",
        "# indexing & slicing 이 가능하다.\n",
        "# unorderd 순서가 있다.\n",
        "# mutable 수정 가능하다.\n",
        "# 한개 요소 [1]\n",
        "\n",
        "a = []\n",
        "b = [1,2,3] #숫자만\n",
        "c = ['a','b','c'] #문자만\n",
        "d = [1,2,'a','b'] #여러 자료형 (이렇게쓰지는 말자!)\n",
        " \n",
        "print(b[0]) #인덱싱\n",
        "print(c[1:]) #슬라이싱\n",
        "print(d[-1])\n",
        "\n",
        "b[0] = 9\n",
        "print(b) # 수정\n",
        "\n",
        "print(c)\n",
        "del c[2] # 리스트는 삭제가 가능하다.\n",
        "print(c) \n",
        "\n",
        "print(a)\n",
        "a.append(0) # 리스트는 삽입이 가능하다.\n",
        "print(a)\n"
      ],
      "metadata": {
        "colab": {
          "base_uri": "https://localhost:8080/"
        },
        "id": "aV28BSLBvP6e",
        "outputId": "829637f5-239e-4bd9-edb2-3f21105e5411"
      },
      "execution_count": null,
      "outputs": [
        {
          "output_type": "stream",
          "name": "stdout",
          "text": [
            "1\n",
            "['b', 'c']\n",
            "b\n",
            "[9, 2, 3]\n",
            "['a', 'b', 'c']\n",
            "['a', 'b']\n",
            "[]\n",
            "[0]\n"
          ]
        }
      ]
    },
    {
      "cell_type": "code",
      "source": [
        "# 리스트에서 많이 사용되는 함수 정리\n",
        "# 요소 추가 append - 마지막에 요소추가\n",
        "a.append(0)\n",
        "print(a)\n",
        "a.append('a')\n",
        "print(a)\n",
        "\n",
        "#요소 추가 insert - 특정 위치를 지정하여 맘대로 요소 추가(append를 더 씀)\n",
        "d = [1,2,3]\n",
        "print(d)\n",
        "d.insert(0,4)\n",
        "print(d)\n",
        "\n",
        "\n",
        "# 정렬 sort\n",
        "a = [1,3,2,4]\n",
        "a.sort()\n",
        "print(a)\n",
        "\n",
        "# 뒤집기\n",
        "a.reverse()\n",
        "print(a)\n",
        "\n",
        "# 인덱스 index\n",
        "a.index(3)\n",
        "\n",
        "print()\n"
      ],
      "metadata": {
        "colab": {
          "base_uri": "https://localhost:8080/"
        },
        "id": "GJyc2Dz5yQ7R",
        "outputId": "ef75a61c-1ae7-4838-f291-43b98489852e"
      },
      "execution_count": null,
      "outputs": [
        {
          "output_type": "stream",
          "name": "stdout",
          "text": [
            "[1, 3, 4, 5, 0]\n",
            "[1, 3, 4, 5, 0, 'a']\n",
            "[1, 2, 3]\n",
            "[4, 1, 2, 3]\n",
            "[1, 2, 3, 4]\n",
            "[4, 3, 2, 1]\n",
            "\n",
            "[1, 2, 3, 3, 5]\n"
          ]
        }
      ]
    },
    {
      "cell_type": "code",
      "source": [
        "# 삭제 remove - 중복되는 수는 처음 등장하는 하나만 삭제한다.\n",
        "a=[1,2,3,3,3,5]\n",
        "a.remove(3)\n",
        "print(a)\n",
        "\n",
        "# 삭제 pop 리스트의 마지막 요소를 삭제한다\n",
        "a = [1,2,3]\n",
        "a.pop() # 괄호에 값이 없으면 마지막 요소를 하나 삭제\n",
        "print(a)\n",
        "\n",
        "a = [1,2,3]\n",
        "a.pop(0) # 괄호에 값이 있으면 그 요소를 삭제\n",
        "print(a)\n",
        "\n",
        "# 개수 세기 count\n",
        "a = [1,2,3,3]\n",
        "print(a)\n",
        "print(a.count(3))\n"
      ],
      "metadata": {
        "colab": {
          "base_uri": "https://localhost:8080/"
        },
        "id": "pREZgoPk3XZ1",
        "outputId": "932779ce-c003-4957-c95f-5558b722b8d6"
      },
      "execution_count": null,
      "outputs": [
        {
          "output_type": "stream",
          "name": "stdout",
          "text": [
            "[1, 2, 3, 3, 5]\n",
            "[1, 2]\n",
            "[2, 3]\n",
            "[1, 2, 3, 3]\n",
            "2\n"
          ]
        }
      ]
    },
    {
      "cell_type": "code",
      "source": [
        "# ,TUPLE\n",
        "# () 소괄호로 만든다.\n",
        "# immutable 수정이 불가능하다.\n",
        "# indexing & slicing 이 가능하다.\n",
        "# unorderd 순서가 있다다\n",
        "# 한 개의 요소로 tuple을 만들때는 (1,) 쉼표를 괜히 넣는다\n",
        "\n",
        "a = ()\n",
        "b = (1,)  # 한 개의 요소로 tuple을 만들때는 (1,) 쉼표를 괜히 넣는다\n",
        "c = (1,2,3)\n",
        "d = (1,2,'a','b')\n",
        "\n",
        "# del d[0]    immutable 삭제가 불가능하다.\n",
        "# d[0] = 9    immutable 수정이 불가능하다.\n",
        "# d.append(5) immutable 삽입이 불가능하다.\n",
        "\n",
        "print(d[0])   # 인덱싱이 가능하다.\n",
        "print(d[0:2]) # 슬라이싱이 가능하다. 마지막은 미만으로 처리한다.\n",
        "\n",
        "print(len(d)) # 튜플 요소의 개수를 반환하는 함수"
      ],
      "metadata": {
        "colab": {
          "base_uri": "https://localhost:8080/"
        },
        "id": "8NcjHCY-4CuZ",
        "outputId": "dd8e5227-0ae1-48f1-9424-4a8384460387"
      },
      "execution_count": null,
      "outputs": [
        {
          "output_type": "stream",
          "name": "stdout",
          "text": [
            "1\n",
            "(1, 2)\n",
            "4\n"
          ]
        }
      ]
    },
    {
      "cell_type": "code",
      "source": [
        "# DICT\n",
        "# {} 중괄호로 만든다\n",
        "# mutable 수정 가능하다.\n",
        "# indexing & slicing 이 불가능하다. \n",
        "# unorderd 순서가 없다\n",
        "# 키값과 밸류 값으로 데이터가 저장된다.\n",
        "\n",
        "# 세상의 많은 데이터가 키값:밸류값 형태로 표현된다.\n",
        "# 이러한 대응 관계를 파이썬에서 데이터를 저장하는 방식을 딕셔너리라고 한다.\n",
        "# 마치 JS의 JSON과 상당히 유사한 공통점을 가지고 있다.\n",
        "\n",
        "a = {'이름': '홍길동','나이':20}\n",
        "b = {'이름' : '홍길동','나이':20, '보유코인':['비트코인','에이다','이러디움']}\n",
        "\n",
        "a['키'] = 185 # dict는 mutable한 속성으로 삽입이 가능하다.\n",
        "print(a)\n",
        "del a['나이'] # dict는 mutable한 속성으로 삭제도 가능하다.\n",
        "print(a)\n",
        "a['키'] = 190 # dict는 mutable한 속성으로 수정도 가능하다.\n",
        "print(a)\n",
        "\n",
        "# a[0]        # dict는 indexing이 불가능하다\n",
        "# a[0:2]      # dict는 slicing이 불가능하다."
      ],
      "metadata": {
        "colab": {
          "base_uri": "https://localhost:8080/"
        },
        "id": "6XHHBou16SLf",
        "outputId": "a6e5fad5-3ba5-4531-f0a1-0385003d7669"
      },
      "execution_count": null,
      "outputs": [
        {
          "output_type": "stream",
          "name": "stdout",
          "text": [
            "{'이름': '홍길동', '나이': 20, '키': 185}\n",
            "{'이름': '홍길동', '키': 185}\n",
            "{'이름': '홍길동', '키': 190}\n"
          ]
        }
      ]
    },
    {
      "cell_type": "code",
      "source": [
        "# 딕셔너리에서 많이 사용되는 함수 정리\n",
        "a = {'이름' : '홍길동','나이':20, '보유코인':['비트코인','에이다','이러디움']}\n",
        "\n",
        "# 딕셔너리에서 키값들만 추출\n",
        "print(a.keys())\n",
        "\n",
        "# 딕셔너리에서 밸류값들만 추출 \n",
        "print(a.values())\n",
        "\n",
        "# 쌍으로 추출 (튜플 쌍으로 추출)\n",
        "print(a.items())\n",
        "\n",
        "# 키값으로 밸류값 추출 (인덱싱이 불가능하기 때문에 꺼낼때 많이 사용된다.)\n",
        "print(a['이름'])\n",
        "# print(a['몸무게']) # 찾는 키 값이 없으면 오류\n",
        "print(a.get('이름'))\n",
        "print(a.get('몸무게')) # 찾는 키 값이 없으면 none 출력\n",
        "\n",
        "# 키가 딕셔너리안에 있는지 확인\n",
        "print('이름' in a)    # 찾는 키값이 있을 때 true 반환\n",
        "print('몸무게' in a)  # 찾는 키값이 없을 때 false 반환"
      ],
      "metadata": {
        "colab": {
          "base_uri": "https://localhost:8080/"
        },
        "id": "UbrwzHjb8mkK",
        "outputId": "6c818d04-446b-4a5f-d2cc-a36e65ccdd29"
      },
      "execution_count": null,
      "outputs": [
        {
          "output_type": "stream",
          "name": "stdout",
          "text": [
            "dict_keys(['이름', '나이', '보유코인'])\n",
            "dict_values(['홍길동', 20, ['비트코인', '에이다', '이러디움']])\n",
            "dict_items([('이름', '홍길동'), ('나이', 20), ('보유코인', ['비트코인', '에이다', '이러디움'])])\n",
            "홍길동\n",
            "홍길동\n",
            "None\n",
            "True\n",
            "False\n"
          ]
        }
      ]
    },
    {
      "cell_type": "code",
      "source": [
        "# SET\n",
        "# {} 중괄호로 만든다\n",
        "# mutable 수정 가능하다.\n",
        "# indexing & slicing 이 불가능하다.\n",
        "# unordered 순서가 없다.\n",
        "# 중복 데이터를 허용하지 않는다.\n",
        "\n",
        "# a = {} # 딕셔너리와 셋은 동일하게 {}(중괄호)를 사용한다. 따라서 빈 값으로 생성할때는 주의하자.\n",
        "a = set()\n",
        "b = {1,2,3}\n",
        "c = {1,2,'a','b'}\n",
        "d = {1,2,2,3}\n",
        "\n",
        "print(d)  # 중복값이 날라감\n",
        "\n",
        "a.add(0) # mutable 삽입 가능하다.\n",
        "print(a)\n",
        "\n",
        "print(c)\n",
        "c.remove(2) # mutable 삭제 가능하다.\n",
        "print(c)\n"
      ],
      "metadata": {
        "colab": {
          "base_uri": "https://localhost:8080/"
        },
        "id": "0yhWPU56_eKw",
        "outputId": "d6e8557f-fe82-4c43-edda-153c6f55175d"
      },
      "execution_count": null,
      "outputs": [
        {
          "output_type": "stream",
          "name": "stdout",
          "text": [
            "{1, 2, 3}\n",
            "{0}\n",
            "{1, 2, 'a', 'b'}\n",
            "{1, 'a', 'b'}\n"
          ]
        }
      ]
    },
    {
      "cell_type": "code",
      "source": [
        "# 불 Bool 자료형 boolean\n",
        "\n",
        "# 반드시 대문자로 시작한다\n",
        "\n",
        "a = True\n",
        "b = False\n",
        "\n",
        "print(1 == 1)\n",
        "print(1 != 1)"
      ],
      "metadata": {
        "colab": {
          "base_uri": "https://localhost:8080/"
        },
        "id": "wYEIj3V2EgTf",
        "outputId": "faa1000c-8727-411e-e10e-833029100a27"
      },
      "execution_count": null,
      "outputs": [
        {
          "output_type": "stream",
          "name": "stdout",
          "text": [
            "True\n",
            "False\n"
          ]
        }
      ]
    },
    {
      "cell_type": "code",
      "source": [
        "# 키보드로 입력 받기\n",
        "\n",
        "a = input()\n",
        "print(a)"
      ],
      "metadata": {
        "colab": {
          "base_uri": "https://localhost:8080/"
        },
        "id": "dn3iv76MFFGz",
        "outputId": "ae9bd894-2ed3-44fd-8a14-7b84eb3bcfa8"
      },
      "execution_count": null,
      "outputs": [
        {
          "output_type": "stream",
          "name": "stdout",
          "text": [
            "abc\n",
            "abc\n"
          ]
        }
      ]
    },
    {
      "cell_type": "code",
      "source": [
        "a = input(\"지금이 오후인가요? \")\n",
        "print(a)"
      ],
      "metadata": {
        "colab": {
          "base_uri": "https://localhost:8080/"
        },
        "id": "GqKH_BOSFVRt",
        "outputId": "9c73e9b5-a40a-44b7-ea17-aa91c86c832f"
      },
      "execution_count": null,
      "outputs": [
        {
          "output_type": "stream",
          "name": "stdout",
          "text": [
            "지금이 오후인가요? 아니요\n",
            "아니요\n"
          ]
        }
      ]
    },
    {
      "cell_type": "code",
      "source": [
        "# 파이썬에서 input은 항상 일단 먼저 모두 문자 취급한다.\n",
        "# a = input(\"지금이 몇시에요\")\n",
        "# print(a+1)\n",
        "\n",
        "a = int(input(\"지금부터 한시간 뒤는 몇시에요 : \"))\n",
        "print(a+1)"
      ],
      "metadata": {
        "colab": {
          "base_uri": "https://localhost:8080/"
        },
        "id": "9iEJYOqnFhvQ",
        "outputId": "d74b9b82-84d9-48d4-bc07-738d8580f944"
      },
      "execution_count": null,
      "outputs": [
        {
          "output_type": "stream",
          "name": "stdout",
          "text": [
            "지금부터 한시간 뒤는 몇시에요 : 3\n",
            "4\n"
          ]
        }
      ]
    },
    {
      "cell_type": "code",
      "source": [
        "a = (\"대한민국\", \"일본\", \"태국\", \"브라질\", \"프랑스\")\n",
        "print(a)\n",
        "b = input()\n",
        "print(a.index(b))\n"
      ],
      "metadata": {
        "colab": {
          "base_uri": "https://localhost:8080/"
        },
        "id": "Ex4tOb-1HOXl",
        "outputId": "76befcc7-1972-4e2d-cbab-21022319250d"
      },
      "execution_count": null,
      "outputs": [
        {
          "output_type": "stream",
          "name": "stdout",
          "text": [
            "('대한민국', '일본', '태국', '브라질', '프랑스')\n",
            "대한민국\n",
            "0\n"
          ]
        }
      ]
    },
    {
      "cell_type": "code",
      "source": [
        "sport = ['탁구','볼링']\n",
        "b = input()\n",
        "sport.append(b)\n",
        "sport.sort()\n",
        "print(sport)\n"
      ],
      "metadata": {
        "colab": {
          "base_uri": "https://localhost:8080/"
        },
        "id": "bs2PcCMnIuNC",
        "outputId": "cee445c0-49a8-47bc-ee2b-de7071418664"
      },
      "execution_count": null,
      "outputs": [
        {
          "output_type": "stream",
          "name": "stdout",
          "text": [
            "축구\n",
            "['볼링', '축구', '탁구']\n"
          ]
        }
      ]
    },
    {
      "cell_type": "code",
      "source": [
        "subject = ['국어','영어','수학','사회','과학','체육']\n",
        "a = input('싫어하는과목 : ')\n",
        "subject.remove(a)\n",
        "print(subject)"
      ],
      "metadata": {
        "colab": {
          "base_uri": "https://localhost:8080/"
        },
        "id": "FrGgi1wdJjpt",
        "outputId": "9ae1e10c-1c8e-4bdc-e4a5-6601c9b6cf21"
      },
      "execution_count": null,
      "outputs": [
        {
          "output_type": "stream",
          "name": "stdout",
          "text": [
            "싫어하는과목 사회\n",
            "['국어', '영어', '수학', '과학', '체육']\n"
          ]
        }
      ]
    },
    {
      "cell_type": "code",
      "source": [
        "dict = {}\n",
        "\n",
        "q1 = input(\"food u like : \")\n",
        "dict[1] = q1\n",
        "\n",
        "q2 = input(\"food u like : \")\n",
        "dict[2] = q2\n",
        "\n",
        "q3 = input(\"food u like : \")\n",
        "dict[3] = q3\n",
        "\n",
        "q4 = input(\"food u like : \")\n",
        "dict[4] = q4\n",
        "\n",
        "print(dict)\n",
        "\n",
        "a = input('제외할 음식?')\n",
        "\n",
        "del dict[(a)]\n",
        "print(dict)"
      ],
      "metadata": {
        "colab": {
          "base_uri": "https://localhost:8080/",
          "height": 338
        },
        "id": "5bd5WBKEKcW5",
        "outputId": "d8944f3f-4bea-43dd-8d74-487273cbe99f"
      },
      "execution_count": null,
      "outputs": [
        {
          "name": "stdout",
          "output_type": "stream",
          "text": [
            "food u like : 1\n",
            "food u like : 2\n",
            "food u like : 3\n",
            "food u like : 4\n",
            "{1: '1', 2: '2', 3: '3', 4: '4'}\n",
            "제외할 음식?2\n"
          ]
        },
        {
          "output_type": "error",
          "ename": "KeyError",
          "evalue": "ignored",
          "traceback": [
            "\u001b[0;31m---------------------------------------------------------------------------\u001b[0m",
            "\u001b[0;31mKeyError\u001b[0m                                  Traceback (most recent call last)",
            "\u001b[0;32m<ipython-input-93-1dd4ca270068>\u001b[0m in \u001b[0;36m<module>\u001b[0;34m\u001b[0m\n\u001b[1;32m     17\u001b[0m \u001b[0ma\u001b[0m \u001b[0;34m=\u001b[0m \u001b[0minput\u001b[0m\u001b[0;34m(\u001b[0m\u001b[0;34m'제외할 음식?'\u001b[0m\u001b[0;34m)\u001b[0m\u001b[0;34m\u001b[0m\u001b[0;34m\u001b[0m\u001b[0m\n\u001b[1;32m     18\u001b[0m \u001b[0;34m\u001b[0m\u001b[0m\n\u001b[0;32m---> 19\u001b[0;31m \u001b[0;32mdel\u001b[0m \u001b[0mdict\u001b[0m\u001b[0;34m[\u001b[0m\u001b[0;34m(\u001b[0m\u001b[0ma\u001b[0m\u001b[0;34m)\u001b[0m\u001b[0;34m]\u001b[0m\u001b[0;34m\u001b[0m\u001b[0;34m\u001b[0m\u001b[0m\n\u001b[0m\u001b[1;32m     20\u001b[0m \u001b[0mprint\u001b[0m\u001b[0;34m(\u001b[0m\u001b[0mdict\u001b[0m\u001b[0;34m)\u001b[0m\u001b[0;34m\u001b[0m\u001b[0;34m\u001b[0m\u001b[0m\n",
            "\u001b[0;31mKeyError\u001b[0m: '2'"
          ]
        }
      ]
    },
    {
      "cell_type": "code",
      "source": [
        "foods = {'1':input(\"좋아하는 음식 첫 번째\"), '2':input(\"좋아하는 음식 두 번째\"), '3':input(\"좋아하는 음식 세 번째\"), '4':input(\"좋아하는 음식 네 번째\")}\n",
        "print(foods)\n",
        "\n",
        "a = input('제외할 음식?')\n",
        "del foods[(a)]\n",
        "print(foods)"
      ],
      "metadata": {
        "colab": {
          "base_uri": "https://localhost:8080/"
        },
        "id": "bAajJhzWOWFQ",
        "outputId": "1c3d5805-ce05-4489-b6a8-d2047407c94b"
      },
      "execution_count": null,
      "outputs": [
        {
          "output_type": "stream",
          "name": "stdout",
          "text": [
            "좋아하는 음식 첫 번째ㄱ\n",
            "좋아하는 음식 두 번째ㄴ\n",
            "좋아하는 음식 세 번째ㄷ\n",
            "좋아하는 음식 네 번째ㄹ\n",
            "{'1': 'ㄱ', '2': 'ㄴ', '3': 'ㄷ', '4': 'ㄹ'}\n",
            "제외할 음식?2\n",
            "{'1': 'ㄱ', '3': 'ㄷ', '4': 'ㄹ'}\n"
          ]
        }
      ]
    },
    {
      "cell_type": "code",
      "source": [
        "#LIST, TUPLE, DICT, SET\n",
        "#여러 데이터들의 묶음 Collection 컬렉션\n",
        "\n",
        "\n",
        "\n",
        "\n",
        "\n",
        "\n",
        "\n",
        "\n",
        "\n"
      ],
      "metadata": {
        "id": "zBu2iLRRlBKP"
      },
      "execution_count": null,
      "outputs": []
    },
    {
      "cell_type": "code",
      "source": [],
      "metadata": {
        "id": "LMlb4VvX6QkA"
      },
      "execution_count": null,
      "outputs": []
    },
    {
      "cell_type": "code",
      "source": [],
      "metadata": {
        "id": "FF5sTLG-tx9_"
      },
      "execution_count": null,
      "outputs": []
    }
  ]
}