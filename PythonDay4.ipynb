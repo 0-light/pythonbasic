{
  "nbformat": 4,
  "nbformat_minor": 0,
  "metadata": {
    "colab": {
      "provenance": [],
      "authorship_tag": "ABX9TyPuIbHXB7XkHnDBi9oqVptS",
      "include_colab_link": true
    },
    "kernelspec": {
      "name": "python3",
      "display_name": "Python 3"
    },
    "language_info": {
      "name": "python"
    }
  },
  "cells": [
    {
      "cell_type": "markdown",
      "metadata": {
        "id": "view-in-github",
        "colab_type": "text"
      },
      "source": [
        "<a href=\"https://colab.research.google.com/github/0-light/pythonbasic/blob/main/PythonDay4.ipynb\" target=\"_parent\"><img src=\"https://colab.research.google.com/assets/colab-badge.svg\" alt=\"Open In Colab\"/></a>"
      ]
    },
    {
      "cell_type": "code",
      "execution_count": null,
      "metadata": {
        "colab": {
          "base_uri": "https://localhost:8080/"
        },
        "id": "7LFz2fUOQeDb",
        "outputId": "c6115e93-e9ea-44c9-d7d4-ebfde4dc8949"
      },
      "outputs": [
        {
          "output_type": "stream",
          "name": "stdout",
          "text": [
            "시간을 입력하세요 > 01:00\n",
            "정각입니다.\n"
          ]
        }
      ],
      "source": [
        "# if\n",
        "# 사용자로부터 입력 받은 시간이 정각인지를 판별하세요\n",
        "# 02:00 정각입니다.\n",
        "# 02:10 정각이 아닙니다.\n",
        "# 11:23 정각이 아닙니다.\n",
        "\n",
        "time = input('시간을 입력하세요 > ')\n",
        "\n",
        "if time[-2:] == \"00\":\n",
        "  print(\"정각입니다.\")\n",
        "else:\n",
        "  print(\"정각이아닙니다.\")\n"
      ]
    },
    {
      "cell_type": "code",
      "source": [
        "# 2\n",
        "warn_investment_list = [\"Micorsoft\", \"Google\"]\n",
        "\n",
        "종목 = input(\"종목명 : \")\n",
        "if 종목 in warn_investment_list:\n",
        "  print(\"투자경고종목\")\n",
        "else:\n",
        "  print(\"투자 경고 종목 아님\")\n",
        "\n",
        "#Hint : in 연산자\n"
      ],
      "metadata": {
        "colab": {
          "base_uri": "https://localhost:8080/"
        },
        "id": "Y8Za_IANS0Xx",
        "outputId": "daed3a70-020c-40e7-a2dc-39f4f98af91f"
      },
      "execution_count": null,
      "outputs": [
        {
          "output_type": "stream",
          "name": "stdout",
          "text": [
            "종목명 : Google\n",
            "투자경고종목\n"
          ]
        }
      ]
    },
    {
      "cell_type": "code",
      "source": [
        "# 3 소문자면 대문자 대문자면 소문자\n",
        "\n",
        "txt = input(\"한 글자만 입력하세요>\")\n",
        "\n",
        "if txt.islower(): # txt가 소문자?\n",
        "  print(txt.upper())\n",
        "else:\n",
        "  print(txt.lower())\n"
      ],
      "metadata": {
        "colab": {
          "base_uri": "https://localhost:8080/"
        },
        "id": "PZS39GD0UUoF",
        "outputId": "e8619e41-7943-4ff1-d7b2-ba16bcb1c13a"
      },
      "execution_count": null,
      "outputs": [
        {
          "output_type": "stream",
          "name": "stdout",
          "text": [
            "한 글자만 입력하세요>a\n",
            "A\n"
          ]
        }
      ]
    },
    {
      "cell_type": "code",
      "source": [
        "# 4 학점 경우의 수 15개\n",
        "\n",
        "score = int(input('당신의 점수는?'))\n",
        "\n",
        "if score < 59:\n",
        "  rank = 'F'\n",
        "elif score < 69:\n",
        "  rank = 'D'\n",
        "elif score < 79:\n",
        "  rank = 'C'   \n",
        "elif score < 89:\n",
        "  rank = 'B'\n",
        "else:\n",
        "  rank = 'A'\n",
        "\n",
        "score = score % 10\n",
        "\n",
        "if score >= 0 and score <= 3:\n",
        "  rank = rank + '-'\n",
        "  print(rank)\n",
        "elif score >= 4 and score <= 6:\n",
        "  rank = rank + '0'\n",
        "  print(rank)\n",
        "else:\n",
        "  rank = rank + '+'\n",
        "  print(rank)    \n",
        "\n",
        "print(f'당신은 {rank}학점입니다.')  \n",
        "\n",
        "\n",
        "# 문제 2가지 100점인 학생이 A-\n",
        "#              F점대 학생들도 + 0 - 가 나옴"
      ],
      "metadata": {
        "colab": {
          "base_uri": "https://localhost:8080/"
        },
        "id": "rmAAHPkBWZvW",
        "outputId": "96a2fd04-7ded-461e-ff6e-0badecf9c413"
      },
      "execution_count": null,
      "outputs": [
        {
          "output_type": "stream",
          "name": "stdout",
          "text": [
            "당신의 점수는?99\n",
            "A+\n",
            "당신은 A+학점입니다.\n"
          ]
        }
      ]
    },
    {
      "cell_type": "code",
      "source": [
        "####### FOR ############\n",
        "# 5 for문을 사용해서 리스트의 음수를 출력하라\n",
        "\n",
        "list = [3,-20,-3, 44]\n",
        "for a in list:\n",
        "  if a < 0:\n",
        "    print(a)\n"
      ],
      "metadata": {
        "colab": {
          "base_uri": "https://localhost:8080/"
        },
        "id": "wFh22xF7ddai",
        "outputId": "3e5c2e02-12df-4da5-b181-09a5b66b4ee0"
      },
      "execution_count": null,
      "outputs": [
        {
          "output_type": "stream",
          "name": "stdout",
          "text": [
            "-20\n",
            "-3\n"
          ]
        }
      ]
    },
    {
      "cell_type": "code",
      "source": [
        "# 6\n",
        "list = [3,100,23,44,6,9]\n",
        "for a in list:\n",
        "  if a%3 == 0:\n",
        "    print(a)"
      ],
      "metadata": {
        "colab": {
          "base_uri": "https://localhost:8080/"
        },
        "id": "37FDeythelSd",
        "outputId": "5b268c17-252a-412a-dce6-f735de57dd05"
      },
      "execution_count": null,
      "outputs": [
        {
          "output_type": "stream",
          "name": "stdout",
          "text": [
            "3\n",
            "6\n",
            "9\n"
          ]
        }
      ]
    },
    {
      "cell_type": "code",
      "source": [
        "#7 글자수 3개이상\n",
        "list = [\"I\",\"study\",\"python\",\"language\",\"i\"]\n",
        "for a in list:\n",
        "  if len(a) >= 3:\n",
        "    print(a)\n",
        "\n",
        "#hint : len()    "
      ],
      "metadata": {
        "colab": {
          "base_uri": "https://localhost:8080/"
        },
        "id": "1xm7G2TffQJK",
        "outputId": "d8b379d2-92f6-41fb-e2e5-9cb6a6d06a79"
      },
      "execution_count": null,
      "outputs": [
        {
          "output_type": "stream",
          "name": "stdout",
          "text": [
            "study\n",
            "python\n",
            "language\n"
          ]
        }
      ]
    },
    {
      "cell_type": "code",
      "source": [
        "# 8 리스트에서 대문자만 화면에 출력\n",
        "\n",
        "list = [\"A\",\"b\",\"c\",\"D\"]\n",
        "for a in list:\n",
        "  if a.isupper():\n",
        "    print(a)\n"
      ],
      "metadata": {
        "colab": {
          "base_uri": "https://localhost:8080/"
        },
        "id": "uXvvV1s9fE97",
        "outputId": "41c425d1-4188-44fd-85a3-2e59c63454cf"
      },
      "execution_count": null,
      "outputs": [
        {
          "output_type": "stream",
          "name": "stdout",
          "text": [
            "A\n",
            "D\n"
          ]
        }
      ]
    },
    {
      "cell_type": "code",
      "source": [
        "# 9 이름의 첫 글자를 대문자로 변경해서 출력\n",
        "\n",
        "list = ['dog','cat','parrot']\n",
        "\n",
        "for i in list:\n",
        "  print(i[0].upper() + i[1:])\n",
        "  "
      ],
      "metadata": {
        "colab": {
          "base_uri": "https://localhost:8080/"
        },
        "id": "h6Z3QxgGgTU2",
        "outputId": "c5550fd6-7795-421d-da46-4e39358776b1"
      },
      "execution_count": null,
      "outputs": [
        {
          "output_type": "stream",
          "name": "stdout",
          "text": [
            "Dog\n",
            "Cat\n",
            "Parrot\n"
          ]
        }
      ]
    },
    {
      "cell_type": "code",
      "source": [
        "# 10 확장자 제거하고 파일이름만 화면에 출력 (힌트 : split())\n",
        "\n",
        "list = ['hello.py','ex01.txt', 'intro.jpeg']\n",
        "\n",
        "for i in list:\n",
        "  print(i[:i.find('.')])"
      ],
      "metadata": {
        "colab": {
          "base_uri": "https://localhost:8080/"
        },
        "id": "Fi99sv31ip3G",
        "outputId": "f081e1b4-b6dc-48cb-9d7c-f4e6c1c0b3e5"
      },
      "execution_count": null,
      "outputs": [
        {
          "output_type": "stream",
          "name": "stdout",
          "text": [
            "hello\n",
            "ex01\n",
            "intro\n"
          ]
        }
      ]
    },
    {
      "cell_type": "code",
      "source": [
        "# 10\n",
        "\n",
        "for i in['hello.py','ex01.txt','intro.jpeg']:\n",
        "   print(i.split('.')[0]) #잘라서 왼쪽덩어리 / 1이면 오른쪽덩어리"
      ],
      "metadata": {
        "colab": {
          "base_uri": "https://localhost:8080/"
        },
        "id": "34xt0mU5jgjj",
        "outputId": "c2fbfa39-c689-4f92-a3de-fcb203fe0817"
      },
      "execution_count": null,
      "outputs": [
        {
          "output_type": "stream",
          "name": "stdout",
          "text": [
            "hello\n",
            "ex01\n",
            "intro\n"
          ]
        }
      ]
    },
    {
      "cell_type": "code",
      "source": [
        "# 1~10까지의 숫자 중 모든 홀수의 합을 출력하는 프로그램을 for문을 사용하여 작성\n",
        "\n",
        "sum=0\n",
        "for i in range(1,11):\n",
        "  if i % 2 == 1:\n",
        "    sum += i\n",
        "print(sum) "
      ],
      "metadata": {
        "colab": {
          "base_uri": "https://localhost:8080/"
        },
        "id": "N-KBFAZXgTen",
        "outputId": "bf77227a-2eb4-40d5-a6fe-20f8e7b16a1f"
      },
      "execution_count": null,
      "outputs": [
        {
          "output_type": "stream",
          "name": "stdout",
          "text": [
            "25\n"
          ]
        }
      ]
    },
    {
      "cell_type": "code",
      "source": [
        "# 반복문과 range 함수를 사용해서 my_list를 아래와 같이 출력\n",
        "my_list = [\"가\",\"나\",\"다\",\"라\"]\n",
        "\n",
        "#무식방법\n",
        "# print(my_list[3],my_list[2])\n",
        "# print(my_list[2],my_list[1])\n",
        "# print(my_list[1],my_list[0])\n",
        "\n",
        "#2번째방법\n",
        "#for i in [3,2,1]:\n",
        "#  print(my_list[i],my_list[i-1])\n",
        "\n",
        "#3번째 방법\n",
        "for i in range(len(my_list)-1,0,-1):\n",
        "  print(my_list[i], my_list[i-1])"
      ],
      "metadata": {
        "colab": {
          "base_uri": "https://localhost:8080/"
        },
        "id": "5k-6MfwGk4XG",
        "outputId": "906d49e4-9a6d-4251-d63a-def3be841452"
      },
      "execution_count": null,
      "outputs": [
        {
          "output_type": "stream",
          "name": "stdout",
          "text": [
            "라 다\n",
            "다 나\n",
            "나 가\n"
          ]
        }
      ]
    },
    {
      "cell_type": "code",
      "source": [
        "ohlc = [[\"open\",\"high\",\"low\",\"close\"],\n",
        "        [100,110,80,90],\n",
        "        [100,390,380,200],\n",
        "        [200,1100,180,310],]\n",
        "\n",
        "for i in (range(1,len(ohlc))):\n",
        "  print(ohlc[i][3])"
      ],
      "metadata": {
        "colab": {
          "base_uri": "https://localhost:8080/"
        },
        "id": "e7D1nDLvnpxC",
        "outputId": "2e1267c0-6210-403c-fe94-788dee618ce6"
      },
      "execution_count": null,
      "outputs": [
        {
          "output_type": "stream",
          "name": "stdout",
          "text": [
            "90\n",
            "200\n",
            "310\n"
          ]
        }
      ]
    },
    {
      "cell_type": "code",
      "source": [
        "total = 0\n",
        "while total <= 50:\n",
        "  total += int(input('더할 수 입력 : '))\n",
        "print(total)"
      ],
      "metadata": {
        "colab": {
          "base_uri": "https://localhost:8080/"
        },
        "id": "3JEm3e6YsDi7",
        "outputId": "458a7336-df59-4c13-934a-389713382d8f"
      },
      "execution_count": null,
      "outputs": [
        {
          "output_type": "stream",
          "name": "stdout",
          "text": [
            "더할 수 입력 : 50\n",
            "더할 수 입력 : 1\n",
            "51\n"
          ]
        }
      ]
    },
    {
      "cell_type": "code",
      "source": [
        "# 15\n",
        "num = 0\n",
        "while num <=5 :\n",
        "  num = int(input(\"숫자를 입력하세요\"))\n",
        "print(f'당신이 입력한 숫자는 {num} 입니다.')"
      ],
      "metadata": {
        "colab": {
          "base_uri": "https://localhost:8080/"
        },
        "id": "L9QVE-6-tZEW",
        "outputId": "d3f1f2ad-331c-47af-ed01-e9008ead983b"
      },
      "execution_count": null,
      "outputs": [
        {
          "output_type": "stream",
          "name": "stdout",
          "text": [
            "숫자를 입력하세요4\n",
            "숫자를 입력하세요2\n",
            "숫자를 입력하세요9\n",
            "당신이 입력한 숫자는 9 입니다.\n"
          ]
        }
      ]
    },
    {
      "cell_type": "code",
      "source": [
        "# 16\n",
        "\n",
        "a = 0\n",
        "while True:\n",
        "  a = int(input(\"10~20 숫자 입력 >\"))\n",
        "  if a>20:\n",
        "    print(\"Too high\")\n",
        "  elif a <10:\n",
        "    print(\"Too low\")\n",
        "  else:\n",
        "    print(\"Thank you\")\n",
        "    break"
      ],
      "metadata": {
        "colab": {
          "base_uri": "https://localhost:8080/"
        },
        "id": "Gc0ivr1zuXuM",
        "outputId": "ab3cbf56-a413-49b2-982f-7c438bbc550d"
      },
      "execution_count": null,
      "outputs": [
        {
          "output_type": "stream",
          "name": "stdout",
          "text": [
            "10~20 숫자 입력 >4\n",
            "Too low\n",
            "10~20 숫자 입력 >3\n",
            "Too low\n",
            "10~20 숫자 입력 >5\n",
            "Too low\n",
            "10~20 숫자 입력 >10\n",
            "Thank you\n"
          ]
        }
      ]
    },
    {
      "cell_type": "markdown",
      "source": [],
      "metadata": {
        "id": "oDblRJGLBOvt"
      }
    },
    {
      "cell_type": "code",
      "source": [
        "# 17 \n",
        "\n",
        "import random \n",
        "\n",
        "compnum = random.randrange(1,101)\n",
        "count = 0\n",
        "\n",
        "while True:\n",
        "  a = int(input(\"숫자 입력 >\"))\n",
        "  if a>compnum:\n",
        "    print(\"Too high\")\n",
        "    count += 1\n",
        "  elif a <compnum:\n",
        "    print(\"Too low\")\n",
        "    count += 1\n",
        "  else:\n",
        "    print(f\"Well done. you took {count} attempts\")\n",
        "    break"
      ],
      "metadata": {
        "colab": {
          "base_uri": "https://localhost:8080/"
        },
        "id": "kGRPAvz-vsqH",
        "outputId": "5e580d3a-8c2a-4e06-a0df-88c6e5962200"
      },
      "execution_count": null,
      "outputs": [
        {
          "output_type": "stream",
          "name": "stdout",
          "text": [
            "숫자 입력 >30\n",
            "Too high\n",
            "숫자 입력 >20\n",
            "Too low\n",
            "숫자 입력 >25\n",
            "Too high\n",
            "숫자 입력 >24\n",
            "Too high\n",
            "숫자 입력 >23\n",
            "Too high\n",
            "숫자 입력 >22\n",
            "Well done. you took5 attempts\n"
          ]
        }
      ]
    },
    {
      "cell_type": "code",
      "source": [
        "num = 10\n",
        "\n",
        "print(f\"There are {num} green bottles hanging on the wall, {num} green bottles hanging on the wall, and if 1 green bottle sould accidentally fall.\")\n",
        "num -= 1\n",
        "while num >= 0:\n",
        "  bottle = int(input(\"How many green bottles will be hanging on the wall? > \"))\n",
        "  if num == bottle :\n",
        "    print(f\"There will be {num} green bottles hanging on the wall\")\n",
        "  else :\n",
        "    print(\"No, try again\")\n",
        "    continue;\n",
        "  print(f\"There are {num} green bottles hanging on the wall, {num} green bottles hanging on the wall, and if 1 green bottle sould accidentally fall.\")\n",
        "  num -= 1\n",
        "print(\"There are no more green bottles hanging on the wall\")"
      ],
      "metadata": {
        "id": "lAKIO8ZC5eVX"
      },
      "execution_count": null,
      "outputs": []
    }
  ]
}