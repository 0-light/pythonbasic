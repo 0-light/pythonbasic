{
  "nbformat": 4,
  "nbformat_minor": 0,
  "metadata": {
    "colab": {
      "provenance": [],
      "authorship_tag": "ABX9TyOp4x+oEeQYl60B9VUhsy4/",
      "include_colab_link": true
    },
    "kernelspec": {
      "name": "python3",
      "display_name": "Python 3"
    },
    "language_info": {
      "name": "python"
    }
  },
  "cells": [
    {
      "cell_type": "markdown",
      "metadata": {
        "id": "view-in-github",
        "colab_type": "text"
      },
      "source": [
        "<a href=\"https://colab.research.google.com/github/0-light/pythonbasic/blob/main/PythonDay6.ipynb\" target=\"_parent\"><img src=\"https://colab.research.google.com/assets/colab-badge.svg\" alt=\"Open In Colab\"/></a>"
      ]
    },
    {
      "cell_type": "code",
      "execution_count": null,
      "metadata": {
        "colab": {
          "base_uri": "https://localhost:8080/"
        },
        "id": "JnTv7cYejsFK",
        "outputId": "43f7c0e1-6b10-4911-9e17-e1f07c4ca460"
      },
      "outputs": [
        {
          "output_type": "execute_result",
          "data": {
            "text/plain": [
              "5"
            ]
          },
          "metadata": {},
          "execution_count": 2
        }
      ],
      "source": [
        "#상속\n",
        "#실세계와 동일한 의미로 사용된다. 마치 재산을 상속받는 것처럼 같은 의미이다.\n",
        "#즉 다른 클래스의 기능을 물려받아 사용할 수 있다.\n",
        "\n",
        "class BigCal:\n",
        "\n",
        "  def __init__(self, first, second):\n",
        "    self.first = first\n",
        "    self.second = second\n",
        "    \n",
        "  def add(self):\n",
        "    result = self.first + self.second\n",
        "    return result\n",
        "\n",
        "  def sub(self):\n",
        "    result = self.first - self.second\n",
        "    return result\n",
        "\n",
        "  def mul(self):\n",
        "    result = self.first * self.second\n",
        "    return result\n",
        "\n",
        "  def div(self):\n",
        "    result = self.first / self.second\n",
        "    return result\n",
        "\n",
        "class SmallCal(BigCal):\n",
        "  pass\n",
        "\n",
        "sc1 = SmallCal(3,2) # sc1은 SmallCal로 생성하기 때문에 SmallCal은 BigCal을 상속하기 떄문에\n",
        "                    # BigCal의 생성자의 규칙에 맞게 생성해야 한다.\n",
        "\n",
        "sc1.add()                    "
      ]
    },
    {
      "cell_type": "code",
      "source": [
        "# 왜 상속을 사용할까?\n",
        "\n",
        "# 보통 상속을 사용하면 기존 클래스는 그대로 놔두고 기능을 추가하거나 또는 기존 기능을 변경\n",
        "# 하고자 할때 사용된다.\n",
        "\n",
        "# 그냥 원래 클래스를 변경하면 되지 않을까... 라고 생각할수 있으나 고급 사용방식에서는 기존 클래스가\n",
        "# 라이브러리 형태로 제공되기 때문에 수정이 허용되지 않는 상황이 발생하게 된다.\n",
        "\n",
        "class MidCal(BigCal):\n",
        "  def pow(self): # 기존 BigCal에는 사칙연산만 있었으나 거기다가 제곱을 계산하는 기능 추가\n",
        "    result = self.first ** self.second\n",
        "    return result\n",
        "\n",
        "cal1 = BigCal(2,3)\n",
        "#cal1.pow()         # 부모가 자식의 자원을 사용할수는 없다.\n",
        "print(cal1.add())\n",
        "\n",
        "cal2 = MidCal(2,3)\n",
        "print(cal2.pow())\n",
        "print(cal2.add())  # 자식은 부모의 자원을 가져다가 쓴다,\n",
        "\n",
        "# 상속은 기존 클래스의 내용은 그대로 두고 클래스의 기능을 확장시킬때 주로 사용된다."
      ],
      "metadata": {
        "colab": {
          "base_uri": "https://localhost:8080/"
        },
        "id": "bAm_woeFk2xj",
        "outputId": "13128335-c76c-43ab-d189-2f12727d25c5"
      },
      "execution_count": null,
      "outputs": [
        {
          "output_type": "stream",
          "name": "stdout",
          "text": [
            "5\n",
            "8\n",
            "5\n"
          ]
        }
      ]
    },
    {
      "cell_type": "code",
      "source": [
        "# 파이썬은 자바와 달리 다중상속을 지원한다.\n",
        "\n",
        "class A():\n",
        "  pass\n",
        "\n",
        "class B():\n",
        "  pass  \n",
        "\n",
        "class C(A,B):\n",
        "  pass"
      ],
      "metadata": {
        "id": "EMUP9Y66m-sM"
      },
      "execution_count": null,
      "outputs": []
    },
    {
      "cell_type": "code",
      "source": [
        "# 메서드 오버라이딩\n",
        "\n",
        "class BigCal:\n",
        "\n",
        "  def __init__(self, first, second):\n",
        "    self.first = first\n",
        "    self.second = second\n",
        "    \n",
        "  def add(self):\n",
        "    result = self.first + self.second\n",
        "    return result\n",
        "\n",
        "  def sub(self):\n",
        "    result = self.first - self.second\n",
        "    return result\n",
        "\n",
        "  def mul(self):\n",
        "    result = self.first * self.second\n",
        "    return result\n",
        "\n",
        "  def div(self):\n",
        "    result = self.first / self.second\n",
        "    return result\n",
        "\n",
        "a = BigCal(2,3)   \n",
        "print(a.div())\n",
        "\n",
        "b = BigCal(2,0)\n",
        "# print(b.div()) #ZeroDivisionError\n",
        "\n",
        "\n"
      ],
      "metadata": {
        "colab": {
          "base_uri": "https://localhost:8080/"
        },
        "id": "gw2LkAhbnqgn",
        "outputId": "eb9fd829-81ae-4ed9-d64e-3dcb214bd717"
      },
      "execution_count": null,
      "outputs": [
        {
          "output_type": "stream",
          "name": "stdout",
          "text": [
            "0.6666666666666666\n"
          ]
        }
      ]
    },
    {
      "cell_type": "code",
      "source": [
        "# 매서드 오버 라이딩\n",
        "\n",
        "class OkCal(BigCal):\n",
        "  def div(self):            # 부모 클래스의 div 메서드가 무시되고 자식의 같은 이름의 매서드가 사용된다.\n",
        "    if self.second == 0:\n",
        "      print('0으로 나눌수 없습니다.')\n",
        "    else:\n",
        "      return self.first/self.second\n",
        "\n",
        "c = OkCal(2,0)      \n",
        "print(c.div())\n"
      ],
      "metadata": {
        "colab": {
          "base_uri": "https://localhost:8080/"
        },
        "id": "TMLTVUEUoeHH",
        "outputId": "024697e1-4edf-428b-a850-797c5eecb96e"
      },
      "execution_count": null,
      "outputs": [
        {
          "output_type": "stream",
          "name": "stdout",
          "text": [
            "0으로 나눌수 없습니다.\n",
            "None\n"
          ]
        }
      ]
    },
    {
      "cell_type": "code",
      "source": [
        "# 클래스 변수 \n",
        "\n",
        "# 객체 변수는 다른 객체들의 영향을 받지 않고 독립적으로 그 값을 유지한다는 특징이 있다.\n",
        "# 그렇지만 객체변수와는 성격이 완전히 다른 클래스 변수도 있다.\n",
        "\n",
        "class Family:\n",
        "  lastname = \"김\"\n",
        "\n",
        "# 클래스 변수는 공유된다.\n",
        "a = Family()\n",
        "b = Family()\n",
        "\n",
        "print(a.lastname)\n",
        "print(b.lastname)\n",
        "print(Family.lastname)"
      ],
      "metadata": {
        "colab": {
          "base_uri": "https://localhost:8080/"
        },
        "id": "7eooYGgtp6-H",
        "outputId": "4a23df76-a7b2-47a5-8829-f1959378446e"
      },
      "execution_count": null,
      "outputs": [
        {
          "output_type": "stream",
          "name": "stdout",
          "text": [
            "김\n",
            "김\n",
            "김\n"
          ]
        }
      ]
    },
    {
      "cell_type": "code",
      "source": [
        "Family.lastname = \"박\"\n"
      ],
      "metadata": {
        "id": "hik2inPPrOVR"
      },
      "execution_count": null,
      "outputs": []
    },
    {
      "cell_type": "code",
      "source": [
        "print(a.lastname)\n",
        "print(b.lastname)\n",
        "# 클래스 변수는 중요하게 쓰이지 않는다. 객체변수가 훨씬 중요하다.\n",
        "# 실무에서도 클래스 변수보다 객체변수를 사용하는 비율이 훨씬 많다."
      ],
      "metadata": {
        "colab": {
          "base_uri": "https://localhost:8080/"
        },
        "id": "zb_gVk3erYFA",
        "outputId": "566cbe9d-d20e-48e1-e6ff-33e08b43eb17"
      },
      "execution_count": null,
      "outputs": [
        {
          "output_type": "stream",
          "name": "stdout",
          "text": [
            "박\n",
            "박\n"
          ]
        }
      ]
    },
    {
      "cell_type": "code",
      "source": [
        "# 예외 처리 Exeption\n",
        "\n",
        "# 파이썬에서 자주 접하게 되는 예외\n",
        "# ZeroDivisionError 0으로 나누는 예외\n",
        "# IndexError  없는 인덱스를 호출하였을때 발생"
      ],
      "metadata": {
        "id": "2q07VJYmsIZT"
      },
      "execution_count": null,
      "outputs": []
    },
    {
      "cell_type": "code",
      "source": [
        "#IndexError 없는 인덱스를 호출하였을때 발생\n",
        "ㅣ1 = [1,2,3,4,5]\n",
        "a[5]"
      ],
      "metadata": {
        "colab": {
          "base_uri": "https://localhost:8080/",
          "height": 209
        },
        "id": "8LTC5sqIxwHE",
        "outputId": "94a5555d-cd88-4f4d-8e9d-6dba953b1510"
      },
      "execution_count": null,
      "outputs": [
        {
          "output_type": "error",
          "ename": "TypeError",
          "evalue": "ignored",
          "traceback": [
            "\u001b[0;31m---------------------------------------------------------------------------\u001b[0m",
            "\u001b[0;31mTypeError\u001b[0m                                 Traceback (most recent call last)",
            "\u001b[0;32m<ipython-input-20-93ae11d99d5d>\u001b[0m in \u001b[0;36m<module>\u001b[0;34m\u001b[0m\n\u001b[1;32m      1\u001b[0m \u001b[0;31m#IndexError 없는 인덱스를 호출하였을때 발생\u001b[0m\u001b[0;34m\u001b[0m\u001b[0;34m\u001b[0m\u001b[0;34m\u001b[0m\u001b[0m\n\u001b[1;32m      2\u001b[0m \u001b[0mㅣ1\u001b[0m \u001b[0;34m=\u001b[0m \u001b[0;34m[\u001b[0m\u001b[0;36m1\u001b[0m\u001b[0;34m,\u001b[0m\u001b[0;36m2\u001b[0m\u001b[0;34m,\u001b[0m\u001b[0;36m3\u001b[0m\u001b[0;34m,\u001b[0m\u001b[0;36m4\u001b[0m\u001b[0;34m,\u001b[0m\u001b[0;36m5\u001b[0m\u001b[0;34m]\u001b[0m\u001b[0;34m\u001b[0m\u001b[0;34m\u001b[0m\u001b[0m\n\u001b[0;32m----> 3\u001b[0;31m \u001b[0ma\u001b[0m\u001b[0;34m[\u001b[0m\u001b[0;36m4\u001b[0m\u001b[0;34m]\u001b[0m\u001b[0;34m\u001b[0m\u001b[0;34m\u001b[0m\u001b[0m\n\u001b[0m",
            "\u001b[0;31mTypeError\u001b[0m: 'Family' object is not subscriptable"
          ]
        }
      ]
    },
    {
      "cell_type": "code",
      "source": [
        "# 파이썬에서의 예외 처리 기본\n",
        "\n",
        "# try:\n",
        "#   수행구문\n",
        "# except:\n",
        "#   예외 발생 시 처리 구문\n",
        "\n",
        "try:\n",
        "  4 / 0\n",
        "except: # 모든 예외 처리\n",
        "  print('0으로는 나눌수 없습니다.')"
      ],
      "metadata": {
        "colab": {
          "base_uri": "https://localhost:8080/"
        },
        "id": "R0dsnNdhyKh5",
        "outputId": "886cc6a8-622e-4ac3-e6e6-1caf4dd5f114"
      },
      "execution_count": null,
      "outputs": [
        {
          "output_type": "stream",
          "name": "stdout",
          "text": [
            "0으로는 나눌수 없습니다.\n"
          ]
        }
      ]
    },
    {
      "cell_type": "code",
      "source": [
        "# 파이썬에서의 예외 처리 기본\n",
        "\n",
        "# try:\n",
        "#   수행구문\n",
        "# except:\n",
        "#   예외 발생 시 처리 구문\n",
        "\n",
        "try:\n",
        "  4 / 0\n",
        "except  ZeroDivisionError: # 특정 예외 처리\n",
        "  print('0으로는 나눌수 없습니다.')"
      ],
      "metadata": {
        "id": "NkeBozqYzTL4"
      },
      "execution_count": null,
      "outputs": []
    },
    {
      "cell_type": "code",
      "source": [
        "# 파이썬에서의 예외 처리 기본\n",
        "\n",
        "# try:\n",
        "#   수행구문\n",
        "# except:\n",
        "#   예외 발생 시 처리 구문\n",
        "\n",
        "try:\n",
        "  4 / 0\n",
        "except ZeroDivisionError as e: # 특정 에러를 e 변수에 담는다.\n",
        "  print(e)"
      ],
      "metadata": {
        "colab": {
          "base_uri": "https://localhost:8080/"
        },
        "id": "wZL1TusTy71n",
        "outputId": "b7930997-acde-41e3-bbda-60b8d612ab9a"
      },
      "execution_count": null,
      "outputs": [
        {
          "output_type": "stream",
          "name": "stdout",
          "text": [
            "division by zero\n"
          ]
        }
      ]
    },
    {
      "cell_type": "code",
      "source": [
        "#finally\n",
        "\n",
        "try:\n",
        "  4 / 0\n",
        "except ZeroDivisionError as e: # 특정 예외 처리\n",
        "  print(e)\n",
        "finally: # 예외처리 발생의 여부와는 관계없이 항상 마지막에 거친다\n",
        "  print('프로그램을 종료합니다.')"
      ],
      "metadata": {
        "colab": {
          "base_uri": "https://localhost:8080/"
        },
        "id": "Hm04uqAfzbKK",
        "outputId": "6d4f0f49-f717-436a-8ae6-c93feaacfdf4"
      },
      "execution_count": null,
      "outputs": [
        {
          "output_type": "stream",
          "name": "stdout",
          "text": [
            "division by zero\n",
            "프로그램을 종료합니다.\n"
          ]
        }
      ]
    },
    {
      "cell_type": "code",
      "source": [
        "# 여러 예외 처리\n",
        "\n",
        "try:\n",
        "  a=[1,2,3,4,5]\n",
        "  print(a[5])\n",
        "  4/0\n",
        "except ZeroDivisionError:\n",
        "  print('0으로는 나눌 수 없습니다.')\n",
        "except IndexError:\n",
        "  print('인덱싱 할 수 없습니다.')\n",
        "\n",
        " # 인덱싱 오류가 먼저 발생했기 때문에 4/0 오류는 실행되지 않는다."
      ],
      "metadata": {
        "colab": {
          "base_uri": "https://localhost:8080/"
        },
        "id": "5MNnbTzOzyzI",
        "outputId": "007fb1e5-ddf8-463a-a521-23c5a675ba43"
      },
      "execution_count": null,
      "outputs": [
        {
          "output_type": "stream",
          "name": "stdout",
          "text": [
            "인덱싱 할 수 없습니다.\n"
          ]
        }
      ]
    },
    {
      "cell_type": "code",
      "source": [
        "try:\n",
        "  a=[1,2,3,4,5]\n",
        "  print(a[5])\n",
        "  4/0\n",
        "except (ZeroDivisionError,IndexError) as e:\n",
        "  print(e)\n",
        "  "
      ],
      "metadata": {
        "colab": {
          "base_uri": "https://localhost:8080/"
        },
        "id": "U1Us_in60pZD",
        "outputId": "132ff7c2-4911-4dea-da5d-7b20ca259a22"
      },
      "execution_count": null,
      "outputs": [
        {
          "output_type": "stream",
          "name": "stdout",
          "text": [
            "list index out of range\n"
          ]
        }
      ]
    },
    {
      "cell_type": "code",
      "source": [
        "#try else\n",
        "\n",
        "try:\n",
        "  실행구문\n",
        "except:\n",
        "  예외 발생시 처리 구문\n",
        "else:\n",
        "  오류가 없을때만 실행되는 구문\n",
        "finally:\n",
        "  실행구문\n",
        "\n",
        "\n",
        "예외 발생시 try -> except -> finally\n",
        "예외 미발생 try -> else -> finally  "
      ],
      "metadata": {
        "id": "I2Zf8GmN0-RS"
      },
      "execution_count": null,
      "outputs": []
    },
    {
      "cell_type": "code",
      "source": [
        "# 오류 발생시키기\n",
        "\n",
        "class Bird:\n",
        "  def fly(self):\n",
        "    raise NotImplementedError \n",
        "    # 파이썬에 미리 정의된 에러, 꼭 작성해야 하는 부분이 구현되지 않았을 경우 \n",
        "    # 일부러 예외 상황이 아닌 상태에서도 예외 강제 발생\n",
        "\n",
        "class Eagle(Bird):\n",
        "  pass\n",
        "\n",
        "\n",
        "eagle = Eagle()\n",
        "eagle.fly()"
      ],
      "metadata": {
        "colab": {
          "base_uri": "https://localhost:8080/",
          "height": 336
        },
        "id": "HqQjVCIt10FO",
        "outputId": "7e4a1ef9-20f2-4517-d78b-f0f0c1a4f214"
      },
      "execution_count": null,
      "outputs": [
        {
          "output_type": "error",
          "ename": "NotImplementedError",
          "evalue": "ignored",
          "traceback": [
            "\u001b[0;31m---------------------------------------------------------------------------\u001b[0m",
            "\u001b[0;31mNotImplementedError\u001b[0m                       Traceback (most recent call last)",
            "\u001b[0;32m<ipython-input-28-7e934e7d8fa8>\u001b[0m in \u001b[0;36m<module>\u001b[0;34m\u001b[0m\n\u001b[1;32m     10\u001b[0m \u001b[0;34m\u001b[0m\u001b[0m\n\u001b[1;32m     11\u001b[0m \u001b[0meagle\u001b[0m \u001b[0;34m=\u001b[0m \u001b[0mEagle\u001b[0m\u001b[0;34m(\u001b[0m\u001b[0;34m)\u001b[0m\u001b[0;34m\u001b[0m\u001b[0;34m\u001b[0m\u001b[0m\n\u001b[0;32m---> 12\u001b[0;31m \u001b[0meagle\u001b[0m\u001b[0;34m.\u001b[0m\u001b[0mfly\u001b[0m\u001b[0;34m(\u001b[0m\u001b[0;34m)\u001b[0m\u001b[0;34m\u001b[0m\u001b[0;34m\u001b[0m\u001b[0m\n\u001b[0m",
            "\u001b[0;32m<ipython-input-28-7e934e7d8fa8>\u001b[0m in \u001b[0;36mfly\u001b[0;34m(self)\u001b[0m\n\u001b[1;32m      3\u001b[0m \u001b[0;32mclass\u001b[0m \u001b[0mBird\u001b[0m\u001b[0;34m:\u001b[0m\u001b[0;34m\u001b[0m\u001b[0;34m\u001b[0m\u001b[0m\n\u001b[1;32m      4\u001b[0m   \u001b[0;32mdef\u001b[0m \u001b[0mfly\u001b[0m\u001b[0;34m(\u001b[0m\u001b[0mself\u001b[0m\u001b[0;34m)\u001b[0m\u001b[0;34m:\u001b[0m\u001b[0;34m\u001b[0m\u001b[0;34m\u001b[0m\u001b[0m\n\u001b[0;32m----> 5\u001b[0;31m     \u001b[0;32mraise\u001b[0m \u001b[0mNotImplementedError\u001b[0m\u001b[0;34m\u001b[0m\u001b[0;34m\u001b[0m\u001b[0m\n\u001b[0m\u001b[1;32m      6\u001b[0m \u001b[0;34m\u001b[0m\u001b[0m\n\u001b[1;32m      7\u001b[0m \u001b[0;32mclass\u001b[0m \u001b[0mEagle\u001b[0m\u001b[0;34m(\u001b[0m\u001b[0mBird\u001b[0m\u001b[0;34m)\u001b[0m\u001b[0;34m:\u001b[0m\u001b[0;34m\u001b[0m\u001b[0;34m\u001b[0m\u001b[0m\n",
            "\u001b[0;31mNotImplementedError\u001b[0m: "
          ]
        }
      ]
    },
    {
      "cell_type": "code",
      "source": [
        "# 예외 만들기\n",
        "\n",
        "class MyError(Exception): #파이썬 내장 클래스 상속\n",
        "  pass\n",
        "\n",
        "#바보가 들어오면 에러발생 \n",
        "def say_nick(nick):\n",
        "  if nick == \"바보\":\n",
        "    raise MyError()\n",
        "  print(nick)\n",
        "  return \n",
        "\n",
        "print(say_nick(\"천사\"))\n"
      ],
      "metadata": {
        "colab": {
          "base_uri": "https://localhost:8080/"
        },
        "id": "Ft22nom33gum",
        "outputId": "804427ae-4889-4bcc-a9e9-5545deb977ce"
      },
      "execution_count": null,
      "outputs": [
        {
          "output_type": "stream",
          "name": "stdout",
          "text": [
            "천사\n",
            "None\n"
          ]
        }
      ]
    },
    {
      "cell_type": "code",
      "source": [
        "# q1\n",
        "# 사용자에게 숫자를 입력 받아서 그 값을 num이라는 변수에 저장하는 함수를 만들고\n",
        "# num을 사용하여 1부터 num에 저장된 숫자까지 출력하는 또 다른 함수를 정의\n",
        "# Hint : 함수 3개가 필요 (실행을위한함수)\n",
        "\n",
        "def input_num():\n",
        "  num = int(input('숫자를 하나 입력하세요>'))\n",
        "  return num\n",
        "\n",
        "def count(num):\n",
        "  n = 1\n",
        "  while n <= num:\n",
        "    print(n)\n",
        "    n+=1\n",
        "\n",
        "def main():\n",
        "  num = input_num()\n",
        "  count(num)\n",
        "\n",
        "main()\n",
        "  \n",
        "\n",
        "\n"
      ],
      "metadata": {
        "colab": {
          "base_uri": "https://localhost:8080/"
        },
        "id": "8JKkCrfO5e7p",
        "outputId": "a6028a31-8d98-4f23-f758-6a48cea44200"
      },
      "execution_count": null,
      "outputs": [
        {
          "output_type": "stream",
          "name": "stdout",
          "text": [
            "숫자를 하나 입력하세요>5\n",
            "1\n",
            "2\n",
            "3\n",
            "4\n",
            "5\n"
          ]
        }
      ]
    },
    {
      "cell_type": "code",
      "source": [
        "# 낮은 숫자와 높은 숫자를 입력받아\n",
        "\n",
        "# 두 값 사이의 임의의 숫자를 생성하여 comp_num 변수에 저장하는 pick_num 함수를 정의하세요.\n",
        "\n",
        "# '하나의 숫자를 생각하세요' 라는 메세지를 출력하고 사용자가 생각한 숫자를 입력받는\n",
        "# first_guess 함수를 정의하세요\n",
        "\n",
        "# 사용자가 입력한 숫자와 comp_num이 같은지 확인하여 같다면 '정답'이라는 메세지를 출력하고\n",
        "# 틀리면 그 입력한 값이 너무 낮은지 너무 높은지 알려고 다시 입력하도록 하여\n",
        "# 숫자를 맞출때까지 계속 반복하는 함수를 만드세요"
      ],
      "metadata": {
        "id": "AMccRhB5-bws"
      },
      "execution_count": null,
      "outputs": []
    },
    {
      "cell_type": "code",
      "source": [
        "import random\n",
        "\n",
        "def pick_num():\n",
        "  num1 = int(input(\"낮은 숫자를 하나 입력하세요 >\"))\n",
        "  num2 = int(input(\"높은 숫자를 하나 입력하세요 >\"))\n",
        "\n",
        "  comp_num = random.randint(num1, num2)\n",
        "\n",
        "  return comp_num\n",
        "\n",
        "def first_guess():\n",
        "  guess = int(input(\"하나의 숫자를 생각하세요 >\"))\n",
        "  return guess\n",
        "\n",
        "def check_answer(comp_num, guess):\n",
        "  try_again = True\n",
        "  while try_again == True:\n",
        "    if comp_num == guess:\n",
        "      print('정답')\n",
        "      try_again = False\n",
        "    elif comp_num  > guess:\n",
        "      guess = int(input('너무 낮습니다. 다시 시도하세요'))\n",
        "    else:\n",
        "      guess = int(input('너무 높습니다. 다시 시도하세요'))\n",
        "\n",
        "def main():\n",
        "  comp_num = pick_num()\n",
        "  guess = first_guess()\n",
        "  check_answer(comp_num, guess)\n",
        "\n",
        "main()"
      ],
      "metadata": {
        "colab": {
          "base_uri": "https://localhost:8080/"
        },
        "id": "peY_h7VRD55L",
        "outputId": "1f7f9c7f-ced9-4ddd-cf8c-3859efeb2c07"
      },
      "execution_count": null,
      "outputs": [
        {
          "output_type": "stream",
          "name": "stdout",
          "text": [
            "낮은 숫자를 하나 입력하세요 >1\n",
            "높은 숫자를 하나 입력하세요 >3\n",
            "하나의 숫자를 생각하세요 >2\n",
            "너무 높습니다. 다시 시도하세요3\n",
            "너무 높습니다. 다시 시도하세요1\n",
            "정답\n"
          ]
        }
      ]
    },
    {
      "cell_type": "code",
      "source": [
        "#가장 큰 수 구하기\n",
        "def print_max(a,b,c):\n",
        "  max = a\n",
        "  if b > a:\n",
        "    max = b\n",
        "  if c > max:\n",
        "    max = c\n",
        "  return max\n",
        "\n",
        "print_max(4,6,2)  "
      ],
      "metadata": {
        "colab": {
          "base_uri": "https://localhost:8080/"
        },
        "id": "-b3K6dNvEKMH",
        "outputId": "9d8f65cd-f54d-417a-bf9c-d372bfab40bd"
      },
      "execution_count": null,
      "outputs": [
        {
          "output_type": "execute_result",
          "data": {
            "text/plain": [
              "6"
            ]
          },
          "metadata": {},
          "execution_count": 52
        }
      ]
    },
    {
      "cell_type": "code",
      "source": [
        "# 입력된 문자열을 역순으로 출력하는 함수 정의\n",
        "def print_reverse(str):\n",
        "  print(str[::-1])\n",
        "\n",
        "print_reverse('hello')  \n",
        "\n",
        "# hint 슬라이싱"
      ],
      "metadata": {
        "colab": {
          "base_uri": "https://localhost:8080/"
        },
        "id": "ZdOYLWDCIEoy",
        "outputId": "76e2cfbf-cf9c-411e-b062-884b8c6ff522"
      },
      "execution_count": null,
      "outputs": [
        {
          "output_type": "stream",
          "name": "stdout",
          "text": [
            "olleh\n"
          ]
        }
      ]
    }
  ]
}